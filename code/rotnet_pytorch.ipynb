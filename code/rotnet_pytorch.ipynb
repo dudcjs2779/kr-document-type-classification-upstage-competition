{
 "cells": [
  {
   "cell_type": "markdown",
   "metadata": {},
   "source": [
    "# **📐Description**\n",
    "- 이미지를 정방향으로 회전시키는 CV 모델을 학습하는 코드입니다.\n",
    "- UPSTAGE AI LAB 문서분류 대회에서 Test 데이터셋을 정방향으로 돌리기 위해서 작성되었으며 따라서 해당대회의 Test 데이터셋에 맞춘 Augmentation이 적용돼 있음을 알려드립니다.\n",
    "- 해당 코드는 https://github.com/d4nst/RotNet 의 코드를 참고하여 pytorch로 재구현했습니다.\n",
    "\n",
    "## Contents\n",
    "- Import Library & Define Functions\n",
    "- Data Process\n",
    "- Hyper-parameters\n",
    "- Augmenation\n",
    "- Data Definition\n",
    "- Train Model\n",
    "- Test Inference"
   ]
  },
  {
   "cell_type": "markdown",
   "metadata": {},
   "source": [
    "## 1 Import Library & Define Functions"
   ]
  },
  {
   "cell_type": "code",
   "execution_count": 33,
   "metadata": {},
   "outputs": [],
   "source": [
    "import os\n",
    "import sys\n",
    "\n",
    "import cv2\n",
    "import matplotlib.pyplot as plt\n",
    "from PIL import Image\n",
    "import numpy as np\n",
    "import pandas as pd\n",
    "import math\n",
    "from tqdm import tqdm\n",
    "import albumentations as A\n",
    "from albumentations.pytorch import ToTensorV2\n",
    "import random\n",
    "from sklearn.preprocessing import LabelEncoder\n",
    "from sklearn.model_selection import StratifiedKFold\n",
    "\n",
    "import timm\n",
    "import torch\n",
    "import torch.nn as nn\n",
    "from torch import optim\n",
    "from torchvision import transforms\n",
    "from torch.utils.data import Dataset, DataLoader, ConcatDataset\n",
    "from transformers import get_scheduler\n",
    "\n",
    "import os\n",
    "import wget\n",
    "import zipfile"
   ]
  },
  {
   "cell_type": "code",
   "execution_count": 34,
   "metadata": {},
   "outputs": [],
   "source": [
    "# 정규화된 이미지를 원래 범위로 되돌리기(EDA용)\n",
    "def denormalize_image1(normalized_image, mean=[0.485, 0.456, 0.406], std=[0.229, 0.224, 0.225]):\n",
    "    denormalized_image = normalized_image * np.array(std)[:, None, None] + np.array(mean)[:, None, None]\n",
    "    denormalized_image = np.clip(denormalized_image, 0, 1)\n",
    "    \n",
    "    if isinstance(denormalized_image, torch.Tensor):\n",
    "        denormalized_image = (denormalized_image * 255).byte()\n",
    "    else:\n",
    "        denormalized_image = (denormalized_image * 255).astype(np.uint8)\n",
    "        \n",
    "    return denormalized_image"
   ]
  },
  {
   "cell_type": "code",
   "execution_count": 35,
   "metadata": {},
   "outputs": [],
   "source": [
    "# Tensor 이미지 시각화용(EDA용)\n",
    "def show_img(tensor, denormalize=False):\n",
    "    if denormalize:\n",
    "        tensor = denormalize_image1(tensor)\n",
    "    ten_iamge = tensor.transpose(0, 2).transpose(0, 1)\n",
    "    # ten_iamge = cv2.cvtColor(np.array(ten_iamge), cv2.COLOR_BGR2RGB)\n",
    "    plt.imshow(ten_iamge)"
   ]
  },
  {
   "cell_type": "code",
   "execution_count": 36,
   "metadata": {},
   "outputs": [],
   "source": [
    "def angle_difference(x, y):\n",
    "    \"\"\"\n",
    "    Calculate minimum difference between two angles.\n",
    "    \"\"\"\n",
    "    return 180 - abs(abs(x - y) - 180)\n",
    "\n",
    "def angle_error(y_pred, y_true):\n",
    "    \"\"\"\n",
    "    Calculate the mean difference between the true angles\n",
    "    and the predicted angles. Each angle is represented\n",
    "    as a one-hot encoded vector.\n",
    "    \"\"\"\n",
    "    true_angle = y_true\n",
    "    pred_angle = torch.argmax(y_pred, dim=1)\n",
    "    diff = angle_difference(true_angle.float(), pred_angle.float())\n",
    "    return torch.mean(torch.abs(diff.float()))\n"
   ]
  },
  {
   "cell_type": "code",
   "execution_count": 37,
   "metadata": {},
   "outputs": [],
   "source": [
    "# 이미지 회전코드(학습용)\n",
    "def rotate(image, angle):\n",
    "    height, width = image.shape[:2]\n",
    "    center = (width / 2, height / 2)\n",
    "\n",
    "    # 회전 변환 행렬 생성\n",
    "    rotation_matrix = cv2.getRotationMatrix2D(center, angle, scale=1.0)\n",
    "\n",
    "    # 이미지 회전\n",
    "    rotated_image = cv2.warpAffine(image, rotation_matrix, (width, height), flags=cv2.INTER_LINEAR, borderMode=cv2.BORDER_CONSTANT, borderValue=(255, 255, 255))\n",
    "    \n",
    "    return rotated_image\n",
    "    "
   ]
  },
  {
   "cell_type": "code",
   "execution_count": 38,
   "metadata": {},
   "outputs": [],
   "source": [
    "# 이미지 손실을 최소화하는 이미지 회전코드(결과 이미지 저장용)\n",
    "def rotate2(image, angle):\n",
    "    \n",
    "    (h, w) = image.shape[:2]\n",
    "    center = (w // 2, h // 2)\n",
    "    \n",
    "    # 회전 변환 행렬 계산\n",
    "    rotation_matrix = cv2.getRotationMatrix2D(center, angle, 1.0)\n",
    "    \n",
    "    # 새로운 이미지의 크기 계산\n",
    "    cos = np.abs(rotation_matrix[0, 0])\n",
    "    sin = np.abs(rotation_matrix[0, 1])\n",
    "    new_w = int((h * sin) + (w * cos))\n",
    "    new_h = int((h * cos) + (w * sin))\n",
    "    \n",
    "    # 회전 중심점 조정\n",
    "    rotation_matrix[0, 2] += (new_w / 2) - center[0]\n",
    "    rotation_matrix[1, 2] += (new_h / 2) - center[1]\n",
    "    \n",
    "    # 이미지 회전\n",
    "    rotated_image = cv2.warpAffine(image, rotation_matrix, (new_w, new_h), flags=cv2.INTER_LINEAR, borderValue=(255, 255, 255))\n",
    "    \n",
    "    return rotated_image"
   ]
  },
  {
   "cell_type": "markdown",
   "metadata": {},
   "source": [
    "### 1-1 Dataset 정의"
   ]
  },
  {
   "cell_type": "code",
   "execution_count": 39,
   "metadata": {},
   "outputs": [],
   "source": [
    "class RotNetDataset(Dataset):\n",
    "    def __init__(self, df, path, transform=None, rotate=None, crop=None):\n",
    "        self.df = df.values\n",
    "        self.path = path\n",
    "        self.rotate = rotate\n",
    "        self.transform = transform\n",
    "        self.crop = crop\n",
    "\n",
    "    def __len__(self):\n",
    "        return len(self.df)\n",
    "    \n",
    "    def __getitem__(self, idx):\n",
    "        name, _ = self.df[idx]\n",
    "        img = cv2.imread(os.path.join(self.path, name))\n",
    "        \n",
    "        if self.transform:\n",
    "            img = self.transform(image=img)['image']\n",
    "        \n",
    "        angle = 0\n",
    "        chance = random.random()\n",
    "        if self.rotate:\n",
    "            if chance < 0.1:\n",
    "                angle = 90\n",
    "                img = self.rotate(img, angle)\n",
    "            elif chance < 0.2:\n",
    "                angle = 180\n",
    "                img = self.rotate(img, angle)\n",
    "            elif chance < 0.3:\n",
    "                angle = 270\n",
    "                img = self.rotate(img, angle)\n",
    "            elif chance < 0.4:\n",
    "                angle = 0\n",
    "            else:\n",
    "                angle = np.random.randint(360)\n",
    "                img = self.rotate(img, angle)\n",
    "            \n",
    "        img = cv2.cvtColor(img, cv2.COLOR_BGR2RGB)\n",
    "        \n",
    "        if self.crop:\n",
    "            img = self.crop(image=img)['image']\n",
    "            \n",
    "        transf = A.Compose([\n",
    "            A.Normalize(mean=[0.485, 0.456, 0.406], std=[0.229, 0.224, 0.225], max_pixel_value=255),\n",
    "            ToTensorV2(),\n",
    "        ])\n",
    "        \n",
    "        img = transf(image=img)['image']\n",
    "\n",
    "        return img, angle\n"
   ]
  },
  {
   "cell_type": "markdown",
   "metadata": {},
   "source": [
    "## 2 Data Process\n",
    "- 원래 Document Classification Task용 데이터이기 때문에 전처리가 어색한 부분이 있을 수 있습니다."
   ]
  },
  {
   "cell_type": "code",
   "execution_count": 40,
   "metadata": {},
   "outputs": [],
   "source": [
    "# 클래스 이름 데이터\n",
    "meta_kr_df = pd.read_csv(\"../data/meta_kr.csv\", encoding='euc-kr')\n",
    "\n",
    "# 이미지 filename과 target\n",
    "df = pd.read_csv(\"../data/train.csv\")\n",
    "\n",
    "# 이상데이터 처리(잘못된 라벨링, 중복 데이터)\n",
    "df.loc[df['ID'] == '45f0d2dfc7e47c03.jpg', 'target'] = 7\n",
    "df = df[df['ID'] != 'aec62dced7af97cd.jpg']\n",
    "df = df[df['ID'] != 'c5182ab809478f12.jpg']\n",
    "df.loc[df['ID'] == '8646f2c3280a4f49.jpg', 'target'] = 3\n",
    "df = df[df['ID'] != '1ec14a14bbe633db.jpg']\n",
    "\n",
    "# 각도 이상 데이터 제외\n",
    "df = df[df['ID'] != '2552a6625015ace2.jpg']\n",
    "df = df[df['ID'] != '7ce5e5dc4eb34620.jpg']\n",
    "df = df[df['ID'] != 'edbf627d7217a4af.jpg']\n",
    "\n",
    "# EDA를 위해 meta 데이터 병합\n",
    "df = df.merge(meta_kr_df, how='left', on='target')\n",
    "df['path'] = \"../data/train/\" + df['ID']\n",
    "\n",
    "df_test = pd.read_csv(\"../data/sample_submission.csv\")\n",
    "df_test['path'] = \"../data/test/\" + df_test['ID']"
   ]
  },
  {
   "cell_type": "markdown",
   "metadata": {},
   "source": [
    "### 2-1 Train/Valid 분활"
   ]
  },
  {
   "cell_type": "code",
   "execution_count": 41,
   "metadata": {},
   "outputs": [],
   "source": [
    "# Stratified K-Fold 를 이용해서 분활\n",
    "temp_X = df.drop(columns=['target'])\n",
    "temp_y = df['target']\n",
    "\n",
    "skf = StratifiedKFold(n_splits=5, shuffle=True, random_state=42)\n",
    "for train_index, test_index in skf.split(temp_X, temp_y):\n",
    "    new_df = df.iloc[train_index]\n",
    "    val_df = df.iloc[test_index]\n",
    "    break"
   ]
  },
  {
   "cell_type": "code",
   "execution_count": 42,
   "metadata": {},
   "outputs": [],
   "source": [
    "# 불균형 해결하기\n",
    "oversample_cols = ['resume', 'statement_of_opinion', 'application_for_payment_of_pregnancy_medical_expenses']\n",
    "\n",
    "def oversampling(df, cols):\n",
    "    class_num = df['class_name'].value_counts().max()\n",
    "    temp = df[df['class_name'] == 'resume']\n",
    "    samples = temp.sample(class_num - temp.shape[0])\n",
    "    df = pd.concat([df, samples], axis=0)\n",
    "\n",
    "    temp = df[df['class_name'] == 'statement_of_opinion']\n",
    "    df = pd.concat([df, temp], axis=0)\n",
    "\n",
    "    temp = df[df['class_name'] == 'application_for_payment_of_pregnancy_medical_expenses']\n",
    "    df = pd.concat([df, temp], axis=0)\n",
    "    \n",
    "    return df"
   ]
  },
  {
   "cell_type": "code",
   "execution_count": 43,
   "metadata": {},
   "outputs": [],
   "source": [
    "new_df = oversampling(new_df, oversample_cols)\n",
    "val_df = oversampling(val_df, oversample_cols)"
   ]
  },
  {
   "cell_type": "markdown",
   "metadata": {},
   "source": [
    "### 2-2 Data 선별\n",
    "- 회전된 이미지가 많이 포함된 Test 셋에 대해서 정방향으로 이미지를 돌린후 제목을 Crop하고 싶은 것이기 때문에 일반적인 문서 이미지와 상이한 데이터들은 노이즈로 간주하고 제외해줍니다."
   ]
  },
  {
   "cell_type": "code",
   "execution_count": 44,
   "metadata": {},
   "outputs": [],
   "source": [
    "drop_class = ['account_number', 'car_dashboard', 'driver_lisence', 'national_id_card', 'passport', 'vehicle_registration_plate']\n",
    "\n",
    "sel_tr_df = new_df[~new_df['class_name'].isin(drop_class)]\n",
    "sel_val_df = val_df[~val_df['class_name'].isin(drop_class)]\n",
    "sel_meta_kr_df = meta_kr_df[~meta_kr_df['class_name'].isin(drop_class)]"
   ]
  },
  {
   "cell_type": "markdown",
   "metadata": {},
   "source": [
    "## 3 Hyper-parameters"
   ]
  },
  {
   "cell_type": "code",
   "execution_count": 45,
   "metadata": {},
   "outputs": [],
   "source": [
    "# device\n",
    "device = torch.device('cuda' if torch.cuda.is_available() else 'cpu')\n",
    "\n",
    "model_name = 'timm/caformer_s18.sail_in22k_ft_in1k_384' \n",
    "\n",
    "# training config\n",
    "img_size = 384\n",
    "LR = 1e-4\n",
    "EPOCHS = 100\n",
    "BATCH_SIZE = 32\n",
    "PATIENCE = 25\n",
    "num_workers = 0\n",
    "\n",
    "model_path = '../model/caformer/'\n",
    "FILENAME = 'caformer_s18_sail_in22k_ft_in1k_384_rot.pth'"
   ]
  },
  {
   "cell_type": "markdown",
   "metadata": {},
   "source": [
    "## 4 Augmenation"
   ]
  },
  {
   "cell_type": "markdown",
   "metadata": {},
   "source": [
    "### 4-1 Albumentations"
   ]
  },
  {
   "cell_type": "code",
   "execution_count": 46,
   "metadata": {},
   "outputs": [],
   "source": [
    "# 원본 데이터셋에 적용될 Albumentations\n",
    "trn_transform = A.Compose([\n",
    "    A.PadIfNeeded(min_height=img_size, min_width=img_size, border_mode=cv2.BORDER_CONSTANT, value=[255, 255, 255]),\n",
    "    A.OneOf([\n",
    "        A.RGBShift(r_shift_limit=10, g_shift_limit=10, b_shift_limit=10, p=0.6),\n",
    "        A.ChannelShuffle(p=0.4),\n",
    "    ], p=0.2),\n",
    "    \n",
    "    A.ShiftScaleRotate(shift_limit=0.2, scale_limit=0.2, rotate_limit=0, p=0.5, border_mode=cv2.BORDER_CONSTANT, value=[255, 255, 255]),\n",
    "    A.OneOf([A.MotionBlur(p=0.3), A.MedianBlur(blur_limit=3, p=0.3), A.Blur(blur_limit=3, p=0.4),], p=0.2),\n",
    "    A.GaussNoise(var_limit=(30.0, 250.0), mean=0, per_channel=True, p=0.2),\n",
    "    A.RandomBrightnessContrast (brightness_limit=(-0.3, 0.3), contrast_limit=(-0.3, 0.3), brightness_by_max=True, p=0.2),\n",
    "    A.OneOf([A.OpticalDistortion(p=0.5), A.PiecewiseAffine(scale=(0.01, 0.03), p=0.5)], p=0.15),\n",
    "    A.HorizontalFlip(p=0.5),\n",
    "])\n",
    "\n",
    "# augraphys가 적용된 데이터셋에 적용할 Albumentations\n",
    "# GaussNoise외에는 trn_transform과 동일\n",
    "trn_transform02 = A.Compose([\n",
    "    A.PadIfNeeded(min_height=img_size, min_width=img_size, border_mode=cv2.BORDER_CONSTANT, value=[255, 255, 255]),\n",
    "    A.OneOf([\n",
    "        A.RGBShift(r_shift_limit=10, g_shift_limit=10, b_shift_limit=10, p=0.6),\n",
    "        A.ChannelShuffle(p=0.4),\n",
    "    ], p=0.2),\n",
    "    \n",
    "    A.OneOf([A.MotionBlur(p=0.3), A.MedianBlur(blur_limit=3, p=0.3), A.Blur(blur_limit=3, p=0.4),], p=0.2),\n",
    "    A.RandomBrightnessContrast (brightness_limit=(-0.3, 0.3), contrast_limit=(-0.3, 0.3), brightness_by_max=True, p=0.2),\n",
    "    A.OneOf([A.OpticalDistortion(p=0.5), A.PiecewiseAffine(scale=(0.01, 0.03), p=0.5)], p=0.15),\n",
    "    A.HorizontalFlip(p=0.5),\n",
    "])\n",
    "\n",
    "# 이미지를 회전시킨 이후에 Crop할 예정이기 때문에 미리 정의해 둡니다.\n",
    "# 이미지를 미리 Crop하고 회전시킬 경우 이미지의 외각을 보고 각도를 예측할 수 있기 때문에 미리 Crop 하지 않습니다.\n",
    "random_crop = A.Compose([\n",
    "    A.RandomCrop (img_size, img_size),\n",
    "])\n",
    "\n",
    "center_crop = A.Compose([\n",
    "    A.CenterCrop (img_size, img_size),\n",
    "])\n",
    "\n",
    "\n",
    "# test 셋에 대해서 TTA를 적용하기 위한 Augmentation\n",
    "tst_transform = A.Compose([\n",
    "    A.OneOf([\n",
    "        A.Compose([\n",
    "            A.PadIfNeeded(min_height=img_size, min_width=img_size, border_mode=cv2.BORDER_CONSTANT, value=[255, 255, 255]),\n",
    "            A.ShiftScaleRotate(shift_limit=0.2, scale_limit=0.2, rotate_limit=0, p=0.6, border_mode=cv2.BORDER_CONSTANT, value=[255, 255, 255]),\n",
    "            A.CenterCrop (img_size, img_size, p=1.0),\n",
    "        ], p=0.6),\n",
    "        A.Compose([\n",
    "            A.PadIfNeeded(min_height=img_size, min_width=img_size, border_mode=cv2.BORDER_CONSTANT, value=[255, 255, 255]),\n",
    "            A.RandomCrop(img_size, img_size),\n",
    "        ], p=0.4)\n",
    "    ], p=1.0),\n",
    "])"
   ]
  },
  {
   "cell_type": "markdown",
   "metadata": {},
   "source": [
    "## 5 Data Definition"
   ]
  },
  {
   "cell_type": "markdown",
   "metadata": {},
   "source": [
    "### 5-1 Dataset 정의"
   ]
  },
  {
   "cell_type": "code",
   "execution_count": 47,
   "metadata": {},
   "outputs": [
    {
     "name": "stdout",
     "output_type": "stream",
     "text": [
      "870 218 3140\n",
      "200 200\n"
     ]
    }
   ],
   "source": [
    "# 원본 train + Albumentations\n",
    "trn_dataset = RotNetDataset(\n",
    "    sel_tr_df[['ID', 'target']],\n",
    "    \"../data/train/\",\n",
    "    transform=trn_transform,\n",
    "    rotate=rotate,\n",
    "    crop=center_crop\n",
    ")\n",
    "\n",
    "# augraphys train + Albumentations\n",
    "# 200 에폭 분량의 데이터셋 정의\n",
    "aug_trn_dataset_list = []\n",
    "for i in range(0, 200):\n",
    "    folder_path = f\"../data/aug/train{str(i)}/\"\n",
    "    aug_trn_dataset = RotNetDataset(new_df[['ID', 'target']], folder_path, transform=trn_transform02, rotate=rotate, crop=random_crop)\n",
    "    aug_trn_dataset_list.append(aug_trn_dataset)\n",
    "\n",
    "\n",
    "# 원본 valid + Albumentations\n",
    "val_dataset = RotNetDataset(\n",
    "    sel_val_df[['ID', 'target']],\n",
    "    \"../data/train/\",\n",
    "    transform=trn_transform,\n",
    "    rotate=rotate,\n",
    "    crop=center_crop\n",
    ")\n",
    "\n",
    "# augraphys valid + Albumentations\n",
    "# 200 에폭 분량의 데이터셋 정의\n",
    "aug_val_dataset_list = []\n",
    "for i in range(0, 200):\n",
    "    folder_path = f\"../data/aug/train{str(i)}/\"\n",
    "    aug_val_dataset = RotNetDataset(val_df[['ID', 'target']], folder_path, transform=trn_transform02, rotate=rotate, crop=random_crop)\n",
    "    aug_val_dataset_list.append(aug_val_dataset)\n",
    "\n",
    "\n",
    "# RotNet으로 회전시킨 test셋을 불러와서 Dataset 구성\n",
    "tst_dataset = RotNetDataset(\n",
    "    df_test[['ID', 'target']],\n",
    "    \"../data/test/\",\n",
    "    transform=tst_transform,\n",
    "    crop=None\n",
    ")\n",
    "\n",
    "print(len(trn_dataset), len(val_dataset), len(tst_dataset))\n",
    "print(len(aug_trn_dataset_list), len(aug_val_dataset_list))"
   ]
  },
  {
   "cell_type": "markdown",
   "metadata": {},
   "source": [
    "### 5-2 Dataset EDA\n",
    "- 데이터에 augmenation이 잘 적용됐는지 확인용"
   ]
  },
  {
   "cell_type": "code",
   "execution_count": null,
   "metadata": {},
   "outputs": [],
   "source": [
    "ran = random.randint(0, len(tst_dataset))\n",
    "# ran=495\n",
    "image, target = tst_dataset[ran]\n",
    "\n",
    "plt.figure(figsize=(10, 8))\n",
    "plt.title(f\"index: {ran}, target: {target}\")\n",
    "show_img(image, True)"
   ]
  },
  {
   "cell_type": "code",
   "execution_count": null,
   "metadata": {},
   "outputs": [],
   "source": [
    "ran = random.randint(0, len(trn_dataset))\n",
    "image, target = trn_dataset[ran]\n",
    "\n",
    "plt.figure(figsize=(10, 8))\n",
    "plt.title(f\"index: {ran}, target: {target}\")\n",
    "show_img(image, True)"
   ]
  },
  {
   "cell_type": "code",
   "execution_count": 50,
   "metadata": {},
   "outputs": [],
   "source": [
    "# idx = random.randint(0, len(aug_val_dataset_list[0]))\n",
    "# # idx = 2\n",
    "\n",
    "# plt.figure(figsize=(10, 10))\n",
    "# plt.title(idx)\n",
    "# show_img(aug_val_dataset_list[0][idx][0], True)"
   ]
  },
  {
   "cell_type": "markdown",
   "metadata": {},
   "source": [
    "### 5-3 DataLoader 정의"
   ]
  },
  {
   "cell_type": "code",
   "execution_count": 51,
   "metadata": {},
   "outputs": [
    {
     "name": "stdout",
     "output_type": "stream",
     "text": [
      "28 7 99\n"
     ]
    }
   ],
   "source": [
    "# DataLoader 정의\n",
    "trn_loader = DataLoader(\n",
    "    trn_dataset,\n",
    "    batch_size=BATCH_SIZE,\n",
    "    shuffle=True,\n",
    "    num_workers=num_workers,\n",
    "    pin_memory=True,\n",
    "    drop_last=False\n",
    ")\n",
    "val_loader = DataLoader(\n",
    "    val_dataset,\n",
    "    batch_size=BATCH_SIZE,\n",
    "    shuffle=False,\n",
    "    num_workers=num_workers,\n",
    "    pin_memory=True,\n",
    "    drop_last=False\n",
    ")\n",
    "tst_loader = DataLoader(\n",
    "    tst_dataset,\n",
    "    batch_size=BATCH_SIZE,\n",
    "    shuffle=False,\n",
    "    num_workers=0,\n",
    "    pin_memory=True,\n",
    ")\n",
    "\n",
    "print(len(trn_loader), len(val_loader), len(tst_loader))"
   ]
  },
  {
   "cell_type": "markdown",
   "metadata": {},
   "source": [
    "## 6 Train Model"
   ]
  },
  {
   "cell_type": "code",
   "execution_count": 52,
   "metadata": {},
   "outputs": [],
   "source": [
    "# load model\n",
    "model = timm.create_model(\n",
    "    model_name,\n",
    "    pretrained=True,\n",
    "    num_classes=360\n",
    ").to(device)\n",
    "loss_fn = nn.CrossEntropyLoss()"
   ]
  },
  {
   "cell_type": "code",
   "execution_count": 53,
   "metadata": {},
   "outputs": [],
   "source": [
    "# 학습코드\n",
    "def training(model, dataloader, optimizer, loss_fn, scheduler, device, epoch, num_epochs):\n",
    "    model.train()  # 모델을 학습 모드로 설정\n",
    "    \n",
    "    train_loss = 0.0\n",
    "    trn_angle_loss = 0.0\n",
    "    preds_list = []\n",
    "    targets_list = []\n",
    "\n",
    "    tbar = tqdm(dataloader)\n",
    "    for idx, (image, targets) in enumerate(tbar):\n",
    "        image = image.to(device)\n",
    "        targets = targets.to(device)\n",
    "        \n",
    "        # 순전파\n",
    "        model.zero_grad(set_to_none=True)\n",
    "        preds = model(image)\n",
    "        loss = loss_fn(preds, targets)\n",
    "        angle_loss = angle_error(preds, targets)\n",
    "        \n",
    "        # 역전파 및 가중치 업데이트\n",
    "        optimizer.zero_grad()\n",
    "        loss.backward()\n",
    "        optimizer.step()\n",
    "        scheduler.step()\n",
    "\n",
    "        # 손실과 정확도 계산\n",
    "        train_loss += loss.item()\n",
    "        trn_angle_loss += angle_loss.item()\n",
    "        preds_list.extend(preds.argmax(dim=1).detach().cpu().numpy())\n",
    "        targets_list.extend(targets.detach().cpu().numpy())\n",
    "        tbar.set_description(f\"Epoch [{epoch+1}/{num_epochs}], Train Loss: {loss.item():.8f}, Train angle loss: {angle_loss:.8f}\")\n",
    "        \n",
    "    \n",
    "    # 에폭별 학습 결과 출력\n",
    "    train_loss = train_loss / len(dataloader)\n",
    "    trn_angle_loss = trn_angle_loss / len(dataloader)\n",
    "    \n",
    "    ret = {\n",
    "        \"train_loss\": train_loss,\n",
    "        \"trn_angle_loss\": trn_angle_loss \n",
    "    }\n",
    "\n",
    "    return model, ret\n",
    "\n",
    "# 평가코드\n",
    "def evaluation(model, dataloader, loss_fn, device, epoch, num_epochs):\n",
    "    model.eval()  # 모델을 평가 모드로 설정\n",
    "    valid_loss = 0.0\n",
    "    valid_angle_loss = 0.0\n",
    "    preds_list = []\n",
    "    targets_list = []\n",
    "\n",
    "    with torch.no_grad(): # model의 업데이트 막기\n",
    "        tbar = tqdm(dataloader)\n",
    "        for idx, (image, targets) in enumerate(tbar):\n",
    "            image = image.to(device)\n",
    "            targets = targets.to(device)\n",
    "\n",
    "            # 순전파\n",
    "            model.zero_grad(set_to_none=True)\n",
    "            preds = model(image)\n",
    "            loss = loss_fn(preds, targets)\n",
    "            angle_loss = angle_error(preds, targets)\n",
    "\n",
    "            # 손실과 정확도 계산\n",
    "            valid_loss += loss.item()\n",
    "            valid_angle_loss += angle_loss.item()\n",
    "            preds_list.extend(preds.argmax(dim=1).detach().cpu().numpy())\n",
    "            targets_list.extend(targets.detach().cpu().numpy())\n",
    "            tbar.set_description(f\"Epoch [{epoch+1}/{num_epochs}], Valid Loss: {loss.item():.8f}, Valid angle loss: {angle_loss:.8f}\")\n",
    "            \n",
    "    # 에폭별 학습 결과 출력\n",
    "    valid_loss = valid_loss / len(dataloader)\n",
    "    valid_angle_loss = valid_angle_loss / len(dataloader)\n",
    "    \n",
    "    ret = {\n",
    "        \"valid_loss\": valid_loss,\n",
    "        \"valid_angle_loss\": valid_angle_loss \n",
    "    }\n",
    "\n",
    "    return model, ret\n",
    "\n",
    "# 학습 루프\n",
    "def training_loop(model, train_dataloader, valid_dataloader, trn_dataset, val_dataset, train_dataset_list, val_dataset_list, loss_fn, optimizer, scheduler, device, num_epochs, patience, filename):\n",
    "    best_valid_loss = float('inf')  # 가장 좋은 validation loss를 저장\n",
    "    early_stop_counter = 0  # 카운터\n",
    "    loss_fn = nn.CrossEntropyLoss()\n",
    "    \n",
    "    for epoch in range(num_epochs):\n",
    "        # 매 에폭마다 다르게 Augraphys가 적용된 데이터 불러오기\n",
    "        data_idx = epoch % 200\n",
    "        T_dataset = ConcatDataset([trn_dataset, train_dataset_list[data_idx]])\n",
    "        V_dataset = ConcatDataset([val_dataset, val_dataset_list[data_idx]])\n",
    "        \n",
    "        train_dataloader = DataLoader(T_dataset, batch_size=BATCH_SIZE, shuffle=True, num_workers=num_workers, pin_memory=True, drop_last=False)\n",
    "        valid_dataloader = DataLoader(V_dataset, batch_size=BATCH_SIZE, shuffle=False, num_workers=num_workers, pin_memory=True, drop_last=False)\n",
    "        print(f\"dataset{data_idx}\")\n",
    "        \n",
    "        model, train_ret = training(model, train_dataloader, optimizer, loss_fn, scheduler, device, epoch, num_epochs)\n",
    "        model, valid_ret = evaluation(model, valid_dataloader, loss_fn, device, epoch, num_epochs)\n",
    "        \n",
    "        # validation loss가 감소하면 모델 저장 및 카운터 리셋\n",
    "        if valid_ret['valid_loss'] < best_valid_loss:\n",
    "            best_valid_loss = valid_ret['valid_loss']\n",
    "            torch.save(model.state_dict(), model_path+filename)\n",
    "            early_stop_counter = 0\n",
    "        else:\n",
    "            early_stop_counter += 1\n",
    "\n",
    "        print(f\"Epoch [{epoch + 1}/{num_epochs}], T_Train Loss: {train_ret['train_loss']:.8f}, T_Train Angle Loss: {train_ret['trn_angle_loss']:.8f}\")\n",
    "        print(f\"Epoch [{epoch + 1}/{num_epochs}], T_Valid Loss: {valid_ret['valid_loss']:.8f}, T_Valid Angle Loss: {valid_ret['valid_angle_loss']:.8f}\")\n",
    "\n",
    "        # early_stopping\n",
    "        if early_stop_counter >= patience:\n",
    "            print(\"Early stopping\")\n",
    "            break\n",
    "            \n",
    "    return model, best_valid_loss"
   ]
  },
  {
   "cell_type": "code",
   "execution_count": 48,
   "metadata": {},
   "outputs": [
    {
     "name": "stdout",
     "output_type": "stream",
     "text": [
      "dataset0\n"
     ]
    },
    {
     "name": "stderr",
     "output_type": "stream",
     "text": [
      "  0%|          | 0/70 [00:00<?, ?it/s]"
     ]
    },
    {
     "name": "stderr",
     "output_type": "stream",
     "text": [
      "Epoch [1/100], Train Loss: 4.47293091, Train angle loss: 85.55555725: 100%|██████████| 70/70 [01:45<00:00,  1.51s/it] \n",
      "Epoch [1/100], Valid Loss: 4.42137957, Valid angle loss: 116.91667175: 100%|██████████| 18/18 [00:25<00:00,  1.43s/it]\n"
     ]
    },
    {
     "name": "stdout",
     "output_type": "stream",
     "text": [
      "Epoch [1/100], T_Train Loss: 4.19392953, T_Train Angle Loss: 92.69722225\n",
      "Epoch [1/100], T_Valid Loss: 3.86324796, T_Valid Angle Loss: 87.19675954\n",
      "dataset1\n"
     ]
    },
    {
     "name": "stderr",
     "output_type": "stream",
     "text": [
      "Epoch [2/100], Train Loss: 3.58662510, Train angle loss: 100.44444275: 100%|██████████| 70/70 [01:39<00:00,  1.42s/it]\n",
      "Epoch [2/100], Valid Loss: 2.76875043, Valid angle loss: 103.91667175: 100%|██████████| 18/18 [00:20<00:00,  1.13s/it]\n"
     ]
    },
    {
     "name": "stdout",
     "output_type": "stream",
     "text": [
      "Epoch [2/100], T_Train Loss: 3.48670062, T_Train Angle Loss: 92.14965275\n",
      "Epoch [2/100], T_Valid Loss: 3.24673372, T_Valid Angle Loss: 93.51794010\n",
      "dataset2\n"
     ]
    },
    {
     "name": "stderr",
     "output_type": "stream",
     "text": [
      "Epoch [3/100], Train Loss: 2.56512666, Train angle loss: 90.22222137: 100%|██████████| 70/70 [01:36<00:00,  1.38s/it] \n",
      "Epoch [3/100], Valid Loss: 2.27380085, Valid angle loss: 90.16667175: 100%|██████████| 18/18 [00:17<00:00,  1.00it/s] \n"
     ]
    },
    {
     "name": "stdout",
     "output_type": "stream",
     "text": [
      "Epoch [3/100], T_Train Loss: 2.92575772, T_Train Angle Loss: 86.47951388\n",
      "Epoch [3/100], T_Valid Loss: 2.59407617, T_Valid Angle Loss: 93.56828732\n",
      "dataset3\n"
     ]
    },
    {
     "name": "stderr",
     "output_type": "stream",
     "text": [
      "Epoch [4/100], Train Loss: 3.54810572, Train angle loss: 119.33333588: 100%|██████████| 70/70 [01:38<00:00,  1.41s/it]\n",
      "Epoch [4/100], Valid Loss: 2.67753339, Valid angle loss: 119.58333588: 100%|██████████| 18/18 [00:20<00:00,  1.17s/it]\n"
     ]
    },
    {
     "name": "stdout",
     "output_type": "stream",
     "text": [
      "Epoch [4/100], T_Train Loss: 2.63355104, T_Train Angle Loss: 87.57529766\n",
      "Epoch [4/100], T_Valid Loss: 2.58693067, T_Valid Angle Loss: 85.19907422\n",
      "dataset4\n"
     ]
    },
    {
     "name": "stderr",
     "output_type": "stream",
     "text": [
      "Epoch [5/100], Train Loss: 2.93405628, Train angle loss: 79.66666412: 100%|██████████| 70/70 [01:37<00:00,  1.40s/it] \n",
      "Epoch [5/100], Valid Loss: 2.59492588, Valid angle loss: 90.08333588: 100%|██████████| 18/18 [00:20<00:00,  1.14s/it]\n"
     ]
    },
    {
     "name": "stdout",
     "output_type": "stream",
     "text": [
      "Epoch [5/100], T_Train Loss: 2.45233753, T_Train Angle Loss: 76.19880949\n",
      "Epoch [5/100], T_Valid Loss: 2.26345099, T_Valid Angle Loss: 64.12615755\n",
      "dataset5\n"
     ]
    },
    {
     "name": "stderr",
     "output_type": "stream",
     "text": [
      "Epoch [6/100], Train Loss: 1.13450062, Train angle loss: 40.00000000: 100%|██████████| 70/70 [01:37<00:00,  1.39s/it] \n",
      "Epoch [6/100], Valid Loss: 1.68884575, Valid angle loss: 74.08333588: 100%|██████████| 18/18 [00:21<00:00,  1.19s/it]\n"
     ]
    },
    {
     "name": "stdout",
     "output_type": "stream",
     "text": [
      "Epoch [6/100], T_Train Loss: 2.25262342, T_Train Angle Loss: 64.96517857\n",
      "Epoch [6/100], T_Valid Loss: 2.03979554, T_Valid Angle Loss: 60.46643533\n",
      "dataset6\n"
     ]
    },
    {
     "name": "stderr",
     "output_type": "stream",
     "text": [
      "Epoch [7/100], Train Loss: 1.44184279, Train angle loss: 9.55555534: 100%|██████████| 70/70 [01:35<00:00,  1.37s/it]  \n",
      "Epoch [7/100], Valid Loss: 2.36891913, Valid angle loss: 45.25000000: 100%|██████████| 18/18 [00:21<00:00,  1.21s/it]\n"
     ]
    },
    {
     "name": "stdout",
     "output_type": "stream",
     "text": [
      "Epoch [7/100], T_Train Loss: 2.15698179, T_Train Angle Loss: 61.30302579\n",
      "Epoch [7/100], T_Valid Loss: 2.04249377, T_Valid Angle Loss: 64.32812500\n",
      "dataset7\n"
     ]
    },
    {
     "name": "stderr",
     "output_type": "stream",
     "text": [
      "Epoch [8/100], Train Loss: 2.83761096, Train angle loss: 22.66666603: 100%|██████████| 70/70 [01:39<00:00,  1.42s/it]\n",
      "Epoch [8/100], Valid Loss: 2.45374441, Valid angle loss: 75.25000000: 100%|██████████| 18/18 [00:17<00:00,  1.02it/s]\n"
     ]
    },
    {
     "name": "stdout",
     "output_type": "stream",
     "text": [
      "Epoch [8/100], T_Train Loss: 2.09693029, T_Train Angle Loss: 57.47157737\n",
      "Epoch [8/100], T_Valid Loss: 2.02447734, T_Valid Angle Loss: 57.12500000\n",
      "dataset8\n"
     ]
    },
    {
     "name": "stderr",
     "output_type": "stream",
     "text": [
      "Epoch [9/100], Train Loss: 2.26973772, Train angle loss: 80.55555725: 100%|██████████| 70/70 [01:34<00:00,  1.34s/it]\n",
      "Epoch [9/100], Valid Loss: 1.61206257, Valid angle loss: 30.41666794: 100%|██████████| 18/18 [00:20<00:00,  1.12s/it]\n"
     ]
    },
    {
     "name": "stdout",
     "output_type": "stream",
     "text": [
      "Epoch [9/100], T_Train Loss: 2.00643580, T_Train Angle Loss: 54.89766868\n",
      "Epoch [9/100], T_Valid Loss: 1.92451665, T_Valid Angle Loss: 43.66724544\n",
      "dataset9\n"
     ]
    },
    {
     "name": "stderr",
     "output_type": "stream",
     "text": [
      "Epoch [10/100], Train Loss: 2.02803755, Train angle loss: 40.33333206: 100%|██████████| 70/70 [01:36<00:00,  1.38s/it]\n",
      "Epoch [10/100], Valid Loss: 2.08871055, Valid angle loss: 15.50000000: 100%|██████████| 18/18 [00:16<00:00,  1.07it/s]\n"
     ]
    },
    {
     "name": "stdout",
     "output_type": "stream",
     "text": [
      "Epoch [10/100], T_Train Loss: 1.80723377, T_Train Angle Loss: 44.72306546\n",
      "Epoch [10/100], T_Valid Loss: 1.60107252, T_Valid Angle Loss: 33.01215278\n",
      "dataset10\n"
     ]
    },
    {
     "name": "stderr",
     "output_type": "stream",
     "text": [
      "Epoch [11/100], Train Loss: 1.52749205, Train angle loss: 40.77777863: 100%|██████████| 70/70 [01:40<00:00,  1.44s/it]\n",
      "Epoch [11/100], Valid Loss: 2.04807854, Valid angle loss: 30.58333397: 100%|██████████| 18/18 [00:22<00:00,  1.24s/it]\n"
     ]
    },
    {
     "name": "stdout",
     "output_type": "stream",
     "text": [
      "Epoch [11/100], T_Train Loss: 1.71830643, T_Train Angle Loss: 42.61870041\n",
      "Epoch [11/100], T_Valid Loss: 1.83726424, T_Valid Angle Loss: 35.45949078\n",
      "dataset11\n"
     ]
    },
    {
     "name": "stderr",
     "output_type": "stream",
     "text": [
      "Epoch [12/100], Train Loss: 2.20840859, Train angle loss: 30.33333397: 100%|██████████| 70/70 [01:46<00:00,  1.52s/it]\n",
      "Epoch [12/100], Valid Loss: 1.16000128, Valid angle loss: 45.33333588: 100%|██████████| 18/18 [00:17<00:00,  1.01it/s]\n"
     ]
    },
    {
     "name": "stdout",
     "output_type": "stream",
     "text": [
      "Epoch [12/100], T_Train Loss: 1.84783616, T_Train Angle Loss: 37.27261906\n",
      "Epoch [12/100], T_Valid Loss: 1.60984100, T_Valid Angle Loss: 31.20428255\n",
      "dataset12\n"
     ]
    },
    {
     "name": "stderr",
     "output_type": "stream",
     "text": [
      "Epoch [13/100], Train Loss: 1.73903346, Train angle loss: 40.00000000: 100%|██████████| 70/70 [01:38<00:00,  1.40s/it]\n",
      "Epoch [13/100], Valid Loss: 1.89065695, Valid angle loss: 45.16666794: 100%|██████████| 18/18 [00:19<00:00,  1.07s/it]\n"
     ]
    },
    {
     "name": "stdout",
     "output_type": "stream",
     "text": [
      "Epoch [13/100], T_Train Loss: 1.60420462, T_Train Angle Loss: 28.76250000\n",
      "Epoch [13/100], T_Valid Loss: 1.67288671, T_Valid Angle Loss: 38.80092600\n",
      "dataset13\n"
     ]
    },
    {
     "name": "stderr",
     "output_type": "stream",
     "text": [
      "Epoch [14/100], Train Loss: 1.87067389, Train angle loss: 0.66666669: 100%|██████████| 70/70 [01:30<00:00,  1.29s/it] \n",
      "Epoch [14/100], Valid Loss: 1.30256093, Valid angle loss: 30.25000000: 100%|██████████| 18/18 [00:17<00:00,  1.03it/s]\n"
     ]
    },
    {
     "name": "stdout",
     "output_type": "stream",
     "text": [
      "Epoch [14/100], T_Train Loss: 1.58701095, T_Train Angle Loss: 27.43630952\n",
      "Epoch [14/100], T_Valid Loss: 1.41756327, T_Valid Angle Loss: 22.58159722\n",
      "dataset14\n"
     ]
    },
    {
     "name": "stderr",
     "output_type": "stream",
     "text": [
      "Epoch [15/100], Train Loss: 1.75052643, Train angle loss: 40.44444656: 100%|██████████| 70/70 [01:31<00:00,  1.30s/it]\n",
      "Epoch [15/100], Valid Loss: 1.75186932, Valid angle loss: 45.25000000: 100%|██████████| 18/18 [00:20<00:00,  1.16s/it]\n"
     ]
    },
    {
     "name": "stdout",
     "output_type": "stream",
     "text": [
      "Epoch [15/100], T_Train Loss: 1.59547816, T_Train Angle Loss: 23.18179567\n",
      "Epoch [15/100], T_Valid Loss: 1.51647905, T_Valid Angle Loss: 22.36979167\n",
      "dataset15\n"
     ]
    },
    {
     "name": "stderr",
     "output_type": "stream",
     "text": [
      "Epoch [16/100], Train Loss: 0.78544462, Train angle loss: 40.00000000: 100%|██████████| 70/70 [01:38<00:00,  1.41s/it]\n",
      "Epoch [16/100], Valid Loss: 1.26633024, Valid angle loss: 15.33333397: 100%|██████████| 18/18 [00:19<00:00,  1.06s/it]\n"
     ]
    },
    {
     "name": "stdout",
     "output_type": "stream",
     "text": [
      "Epoch [16/100], T_Train Loss: 1.39293479, T_Train Angle Loss: 16.98214286\n",
      "Epoch [16/100], T_Valid Loss: 1.43532641, T_Valid Angle Loss: 21.29976855\n",
      "dataset16\n"
     ]
    },
    {
     "name": "stderr",
     "output_type": "stream",
     "text": [
      "Epoch [17/100], Train Loss: 0.74907452, Train angle loss: 0.33333334: 100%|██████████| 70/70 [01:35<00:00,  1.36s/it] \n",
      "Epoch [17/100], Valid Loss: 1.11917698, Valid angle loss: 0.33333334: 100%|██████████| 18/18 [00:16<00:00,  1.07it/s] \n"
     ]
    },
    {
     "name": "stdout",
     "output_type": "stream",
     "text": [
      "Epoch [17/100], T_Train Loss: 1.37377590, T_Train Angle Loss: 14.79717262\n",
      "Epoch [17/100], T_Valid Loss: 1.44680386, T_Valid Angle Loss: 18.96296296\n",
      "dataset17\n"
     ]
    },
    {
     "name": "stderr",
     "output_type": "stream",
     "text": [
      "Epoch [18/100], Train Loss: 1.02641916, Train angle loss: 0.33333334: 100%|██████████| 70/70 [01:34<00:00,  1.35s/it] \n",
      "Epoch [18/100], Valid Loss: 0.91755694, Valid angle loss: 15.33333397: 100%|██████████| 18/18 [00:14<00:00,  1.22it/s]\n"
     ]
    },
    {
     "name": "stdout",
     "output_type": "stream",
     "text": [
      "Epoch [18/100], T_Train Loss: 1.39141514, T_Train Angle Loss: 12.53333333\n",
      "Epoch [18/100], T_Valid Loss: 1.22781791, T_Valid Angle Loss: 11.32407411\n",
      "dataset18\n"
     ]
    },
    {
     "name": "stderr",
     "output_type": "stream",
     "text": [
      "Epoch [19/100], Train Loss: 0.30555227, Train angle loss: 0.22222222: 100%|██████████| 70/70 [01:30<00:00,  1.29s/it] \n",
      "Epoch [19/100], Valid Loss: 0.45322946, Valid angle loss: 0.16666667: 100%|██████████| 18/18 [00:19<00:00,  1.11s/it] \n"
     ]
    },
    {
     "name": "stdout",
     "output_type": "stream",
     "text": [
      "Epoch [19/100], T_Train Loss: 1.34378725, T_Train Angle Loss: 12.43397817\n",
      "Epoch [19/100], T_Valid Loss: 1.25538517, T_Valid Angle Loss: 10.22627315\n",
      "dataset19\n"
     ]
    },
    {
     "name": "stderr",
     "output_type": "stream",
     "text": [
      "Epoch [20/100], Train Loss: 0.96468109, Train angle loss: 0.77777779: 100%|██████████| 70/70 [01:36<00:00,  1.38s/it] \n",
      "Epoch [20/100], Valid Loss: 1.19798756, Valid angle loss: 0.50000000: 100%|██████████| 18/18 [00:20<00:00,  1.15s/it] \n"
     ]
    },
    {
     "name": "stdout",
     "output_type": "stream",
     "text": [
      "Epoch [20/100], T_Train Loss: 1.26787365, T_Train Angle Loss: 9.79414683\n",
      "Epoch [20/100], T_Valid Loss: 1.11631316, T_Valid Angle Loss: 10.12326389\n",
      "dataset20\n"
     ]
    },
    {
     "name": "stderr",
     "output_type": "stream",
     "text": [
      "Epoch [21/100], Train Loss: 1.08628213, Train angle loss: 0.44444445: 100%|██████████| 70/70 [01:38<00:00,  1.41s/it] \n",
      "Epoch [21/100], Valid Loss: 0.92924476, Valid angle loss: 0.66666669: 100%|██████████| 18/18 [00:21<00:00,  1.19s/it] \n"
     ]
    },
    {
     "name": "stdout",
     "output_type": "stream",
     "text": [
      "Epoch [21/100], T_Train Loss: 1.15737506, T_Train Angle Loss: 10.35143849\n",
      "Epoch [21/100], T_Valid Loss: 1.14890773, T_Valid Angle Loss: 9.87384259\n",
      "dataset21\n"
     ]
    },
    {
     "name": "stderr",
     "output_type": "stream",
     "text": [
      "Epoch [22/100], Train Loss: 1.68516517, Train angle loss: 0.77777779: 100%|██████████| 70/70 [01:37<00:00,  1.39s/it] \n",
      "Epoch [22/100], Valid Loss: 0.90011936, Valid angle loss: 0.50000000: 100%|██████████| 18/18 [00:22<00:00,  1.25s/it] \n"
     ]
    },
    {
     "name": "stdout",
     "output_type": "stream",
     "text": [
      "Epoch [22/100], T_Train Loss: 1.18180116, T_Train Angle Loss: 10.41557540\n",
      "Epoch [22/100], T_Valid Loss: 1.17525004, T_Valid Angle Loss: 8.48611111\n",
      "dataset22\n"
     ]
    },
    {
     "name": "stderr",
     "output_type": "stream",
     "text": [
      "Epoch [23/100], Train Loss: 2.16492987, Train angle loss: 1.22222221: 100%|██████████| 70/70 [01:34<00:00,  1.35s/it] \n",
      "Epoch [23/100], Valid Loss: 1.18387175, Valid angle loss: 0.41666669: 100%|██████████| 18/18 [00:18<00:00,  1.02s/it] \n"
     ]
    },
    {
     "name": "stdout",
     "output_type": "stream",
     "text": [
      "Epoch [23/100], T_Train Loss: 1.14664579, T_Train Angle Loss: 9.40496032\n",
      "Epoch [23/100], T_Valid Loss: 1.24353287, T_Valid Angle Loss: 8.04918982\n",
      "dataset23\n"
     ]
    },
    {
     "name": "stderr",
     "output_type": "stream",
     "text": [
      "Epoch [24/100], Train Loss: 1.27847373, Train angle loss: 0.77777779: 100%|██████████| 70/70 [01:44<00:00,  1.50s/it] \n",
      "Epoch [24/100], Valid Loss: 0.84048599, Valid angle loss: 15.25000000: 100%|██████████| 18/18 [00:20<00:00,  1.14s/it]\n"
     ]
    },
    {
     "name": "stdout",
     "output_type": "stream",
     "text": [
      "Epoch [24/100], T_Train Loss: 1.12144927, T_Train Angle Loss: 7.64727183\n",
      "Epoch [24/100], T_Valid Loss: 1.07079712, T_Valid Angle Loss: 9.73611111\n",
      "dataset24\n"
     ]
    },
    {
     "name": "stderr",
     "output_type": "stream",
     "text": [
      "Epoch [25/100], Train Loss: 0.34968325, Train angle loss: 0.11111111: 100%|██████████| 70/70 [01:28<00:00,  1.26s/it] \n",
      "Epoch [25/100], Valid Loss: 0.67852378, Valid angle loss: 0.50000000: 100%|██████████| 18/18 [00:15<00:00,  1.15it/s] \n"
     ]
    },
    {
     "name": "stdout",
     "output_type": "stream",
     "text": [
      "Epoch [25/100], T_Train Loss: 1.11867824, T_Train Angle Loss: 8.23998016\n",
      "Epoch [25/100], T_Valid Loss: 1.11169041, T_Valid Angle Loss: 7.99826389\n",
      "dataset25\n"
     ]
    },
    {
     "name": "stderr",
     "output_type": "stream",
     "text": [
      "Epoch [26/100], Train Loss: 1.42153180, Train angle loss: 0.55555558: 100%|██████████| 70/70 [01:37<00:00,  1.39s/it] \n",
      "Epoch [26/100], Valid Loss: 0.98185897, Valid angle loss: 15.16666698: 100%|██████████| 18/18 [00:19<00:00,  1.09s/it]\n"
     ]
    },
    {
     "name": "stdout",
     "output_type": "stream",
     "text": [
      "Epoch [26/100], T_Train Loss: 1.06240465, T_Train Angle Loss: 7.25391865\n",
      "Epoch [26/100], T_Valid Loss: 0.95801066, T_Valid Angle Loss: 8.85300928\n",
      "dataset26\n"
     ]
    },
    {
     "name": "stderr",
     "output_type": "stream",
     "text": [
      "Epoch [27/100], Train Loss: 0.69392794, Train angle loss: 0.22222222: 100%|██████████| 70/70 [01:32<00:00,  1.32s/it] \n",
      "Epoch [27/100], Valid Loss: 0.81921625, Valid angle loss: 0.33333334: 100%|██████████| 18/18 [00:20<00:00,  1.14s/it] \n"
     ]
    },
    {
     "name": "stdout",
     "output_type": "stream",
     "text": [
      "Epoch [27/100], T_Train Loss: 1.04768251, T_Train Angle Loss: 5.67281746\n",
      "Epoch [27/100], T_Valid Loss: 1.05704459, T_Valid Angle Loss: 9.02372685\n",
      "dataset27\n"
     ]
    },
    {
     "name": "stderr",
     "output_type": "stream",
     "text": [
      "Epoch [28/100], Train Loss: 0.78258485, Train angle loss: 0.33333334: 100%|██████████| 70/70 [01:40<00:00,  1.43s/it] \n",
      "Epoch [28/100], Valid Loss: 0.84666437, Valid angle loss: 0.58333337: 100%|██████████| 18/18 [00:18<00:00,  1.01s/it] \n"
     ]
    },
    {
     "name": "stdout",
     "output_type": "stream",
     "text": [
      "Epoch [28/100], T_Train Loss: 1.03340786, T_Train Angle Loss: 6.99583333\n",
      "Epoch [28/100], T_Valid Loss: 1.02396085, T_Valid Angle Loss: 6.12442130\n",
      "dataset28\n"
     ]
    },
    {
     "name": "stderr",
     "output_type": "stream",
     "text": [
      "Epoch [29/100], Train Loss: 0.92606449, Train angle loss: 0.66666669: 100%|██████████| 70/70 [01:40<00:00,  1.43s/it] \n",
      "Epoch [29/100], Valid Loss: 1.39360857, Valid angle loss: 0.58333337: 100%|██████████| 18/18 [00:19<00:00,  1.08s/it] \n"
     ]
    },
    {
     "name": "stdout",
     "output_type": "stream",
     "text": [
      "Epoch [29/100], T_Train Loss: 1.01740338, T_Train Angle Loss: 6.41979167\n",
      "Epoch [29/100], T_Valid Loss: 0.94734803, T_Valid Angle Loss: 7.26851852\n",
      "dataset29\n"
     ]
    },
    {
     "name": "stderr",
     "output_type": "stream",
     "text": [
      "Epoch [30/100], Train Loss: 0.93276531, Train angle loss: 0.22222222: 100%|██████████| 70/70 [01:32<00:00,  1.32s/it] \n",
      "Epoch [30/100], Valid Loss: 1.08319759, Valid angle loss: 15.33333397: 100%|██████████| 18/18 [00:20<00:00,  1.13s/it]\n"
     ]
    },
    {
     "name": "stdout",
     "output_type": "stream",
     "text": [
      "Epoch [30/100], T_Train Loss: 0.95164981, T_Train Angle Loss: 5.05272817\n",
      "Epoch [30/100], T_Valid Loss: 1.00531232, T_Valid Angle Loss: 8.71469911\n",
      "dataset30\n"
     ]
    },
    {
     "name": "stderr",
     "output_type": "stream",
     "text": [
      "Epoch [31/100], Train Loss: 1.51696062, Train angle loss: 40.22222137: 100%|██████████| 70/70 [01:33<00:00,  1.34s/it]\n",
      "Epoch [31/100], Valid Loss: 0.89864635, Valid angle loss: 0.66666669: 100%|██████████| 18/18 [00:21<00:00,  1.21s/it] \n"
     ]
    },
    {
     "name": "stdout",
     "output_type": "stream",
     "text": [
      "Epoch [31/100], T_Train Loss: 0.96237450, T_Train Angle Loss: 6.76746031\n",
      "Epoch [31/100], T_Valid Loss: 0.97434686, T_Valid Angle Loss: 7.73842593\n",
      "dataset31\n"
     ]
    },
    {
     "name": "stderr",
     "output_type": "stream",
     "text": [
      "Epoch [32/100], Train Loss: 1.38467860, Train angle loss: 0.77777779: 100%|██████████| 70/70 [01:35<00:00,  1.37s/it] \n",
      "Epoch [32/100], Valid Loss: 1.10294223, Valid angle loss: 15.50000000: 100%|██████████| 18/18 [00:17<00:00,  1.01it/s]\n"
     ]
    },
    {
     "name": "stdout",
     "output_type": "stream",
     "text": [
      "Epoch [32/100], T_Train Loss: 0.96154784, T_Train Angle Loss: 6.54459325\n",
      "Epoch [32/100], T_Valid Loss: 0.94498353, T_Valid Angle Loss: 8.09201389\n",
      "dataset32\n"
     ]
    },
    {
     "name": "stderr",
     "output_type": "stream",
     "text": [
      "Epoch [33/100], Train Loss: 0.69060779, Train angle loss: 0.11111111: 100%|██████████| 70/70 [01:35<00:00,  1.36s/it] \n",
      "Epoch [33/100], Valid Loss: 0.44739220, Valid angle loss: 0.16666667: 100%|██████████| 18/18 [00:21<00:00,  1.17s/it] \n"
     ]
    },
    {
     "name": "stdout",
     "output_type": "stream",
     "text": [
      "Epoch [33/100], T_Train Loss: 0.91431652, T_Train Angle Loss: 5.72971230\n",
      "Epoch [33/100], T_Valid Loss: 0.82537044, T_Valid Angle Loss: 6.88425926\n",
      "dataset33\n"
     ]
    },
    {
     "name": "stderr",
     "output_type": "stream",
     "text": [
      "Epoch [34/100], Train Loss: 0.69536787, Train angle loss: 0.33333334: 100%|██████████| 70/70 [01:39<00:00,  1.42s/it] \n",
      "Epoch [34/100], Valid Loss: 0.55919403, Valid angle loss: 0.25000000: 100%|██████████| 18/18 [00:18<00:00,  1.05s/it] \n"
     ]
    },
    {
     "name": "stdout",
     "output_type": "stream",
     "text": [
      "Epoch [34/100], T_Train Loss: 0.87670886, T_Train Angle Loss: 5.07529762\n",
      "Epoch [34/100], T_Valid Loss: 0.80467424, T_Valid Angle Loss: 5.61805556\n",
      "dataset34\n"
     ]
    },
    {
     "name": "stderr",
     "output_type": "stream",
     "text": [
      "Epoch [35/100], Train Loss: 0.62308705, Train angle loss: 0.44444445: 100%|██████████| 70/70 [01:36<00:00,  1.37s/it] \n",
      "Epoch [35/100], Valid Loss: 0.90307665, Valid angle loss: 15.33333397: 100%|██████████| 18/18 [00:19<00:00,  1.08s/it]\n"
     ]
    },
    {
     "name": "stdout",
     "output_type": "stream",
     "text": [
      "Epoch [35/100], T_Train Loss: 0.82016531, T_Train Angle Loss: 5.02465278\n",
      "Epoch [35/100], T_Valid Loss: 0.82224097, T_Valid Angle Loss: 5.83969911\n",
      "dataset35\n"
     ]
    },
    {
     "name": "stderr",
     "output_type": "stream",
     "text": [
      "Epoch [36/100], Train Loss: 0.52658254, Train angle loss: 0.33333334: 100%|██████████| 70/70 [01:32<00:00,  1.32s/it] \n",
      "Epoch [36/100], Valid Loss: 0.69216251, Valid angle loss: 14.91666698: 100%|██████████| 18/18 [00:20<00:00,  1.13s/it]\n"
     ]
    },
    {
     "name": "stdout",
     "output_type": "stream",
     "text": [
      "Epoch [36/100], T_Train Loss: 0.81714392, T_Train Angle Loss: 5.49717262\n",
      "Epoch [36/100], T_Valid Loss: 0.73690831, T_Valid Angle Loss: 4.23148150\n",
      "dataset36\n"
     ]
    },
    {
     "name": "stderr",
     "output_type": "stream",
     "text": [
      "Epoch [37/100], Train Loss: 0.56197476, Train angle loss: 0.11111111: 100%|██████████| 70/70 [01:34<00:00,  1.35s/it] \n",
      "Epoch [37/100], Valid Loss: 0.69248486, Valid angle loss: 0.58333337: 100%|██████████| 18/18 [00:23<00:00,  1.31s/it] \n"
     ]
    },
    {
     "name": "stdout",
     "output_type": "stream",
     "text": [
      "Epoch [37/100], T_Train Loss: 0.82322089, T_Train Angle Loss: 3.69533730\n",
      "Epoch [37/100], T_Valid Loss: 0.93344739, T_Valid Angle Loss: 5.09490741\n",
      "dataset37\n"
     ]
    },
    {
     "name": "stderr",
     "output_type": "stream",
     "text": [
      "Epoch [38/100], Train Loss: 0.64523858, Train angle loss: 0.44444445: 100%|██████████| 70/70 [01:30<00:00,  1.30s/it] \n",
      "Epoch [38/100], Valid Loss: 0.61736870, Valid angle loss: 0.41666669: 100%|██████████| 18/18 [00:21<00:00,  1.19s/it] \n"
     ]
    },
    {
     "name": "stdout",
     "output_type": "stream",
     "text": [
      "Epoch [38/100], T_Train Loss: 0.82663496, T_Train Angle Loss: 4.32465278\n",
      "Epoch [38/100], T_Valid Loss: 0.84073327, T_Valid Angle Loss: 5.98495370\n",
      "dataset38\n"
     ]
    },
    {
     "name": "stderr",
     "output_type": "stream",
     "text": [
      "Epoch [39/100], Train Loss: 0.71971405, Train angle loss: 0.22222222: 100%|██████████| 70/70 [01:28<00:00,  1.26s/it] \n",
      "Epoch [39/100], Valid Loss: 0.75246769, Valid angle loss: 15.41666698: 100%|██████████| 18/18 [00:20<00:00,  1.14s/it]\n"
     ]
    },
    {
     "name": "stdout",
     "output_type": "stream",
     "text": [
      "Epoch [39/100], T_Train Loss: 0.75325429, T_Train Angle Loss: 4.04424603\n",
      "Epoch [39/100], T_Valid Loss: 0.79442565, T_Valid Angle Loss: 7.36168983\n",
      "dataset39\n"
     ]
    },
    {
     "name": "stderr",
     "output_type": "stream",
     "text": [
      "Epoch [40/100], Train Loss: 0.63613510, Train angle loss: 0.22222222: 100%|██████████| 70/70 [01:34<00:00,  1.35s/it] \n",
      "Epoch [40/100], Valid Loss: 0.99734664, Valid angle loss: 0.33333334: 100%|██████████| 18/18 [00:22<00:00,  1.24s/it] \n"
     ]
    },
    {
     "name": "stdout",
     "output_type": "stream",
     "text": [
      "Epoch [40/100], T_Train Loss: 0.75676303, T_Train Angle Loss: 3.79871032\n",
      "Epoch [40/100], T_Valid Loss: 0.79945518, T_Valid Angle Loss: 6.25462963\n",
      "dataset40\n"
     ]
    },
    {
     "name": "stderr",
     "output_type": "stream",
     "text": [
      "Epoch [41/100], Train Loss: 0.44200879, Train angle loss: 0.22222222: 100%|██████████| 70/70 [01:26<00:00,  1.23s/it] \n",
      "Epoch [41/100], Valid Loss: 0.60946840, Valid angle loss: 0.16666667: 100%|██████████| 18/18 [00:19<00:00,  1.07s/it] \n"
     ]
    },
    {
     "name": "stdout",
     "output_type": "stream",
     "text": [
      "Epoch [41/100], T_Train Loss: 0.67137888, T_Train Angle Loss: 4.11478175\n",
      "Epoch [41/100], T_Valid Loss: 0.71480062, T_Valid Angle Loss: 3.72280093\n",
      "dataset41\n"
     ]
    },
    {
     "name": "stderr",
     "output_type": "stream",
     "text": [
      "Epoch [42/100], Train Loss: 0.19187266, Train angle loss: 0.00000000: 100%|██████████| 70/70 [01:41<00:00,  1.45s/it] \n",
      "Epoch [42/100], Valid Loss: 0.71234912, Valid angle loss: 0.16666667: 100%|██████████| 18/18 [00:21<00:00,  1.20s/it] \n"
     ]
    },
    {
     "name": "stdout",
     "output_type": "stream",
     "text": [
      "Epoch [42/100], T_Train Loss: 0.75070932, T_Train Angle Loss: 3.52723214\n",
      "Epoch [42/100], T_Valid Loss: 0.74276499, T_Valid Angle Loss: 4.66550926\n",
      "dataset42\n"
     ]
    },
    {
     "name": "stderr",
     "output_type": "stream",
     "text": [
      "Epoch [43/100], Train Loss: 0.80622125, Train angle loss: 20.33333397: 100%|██████████| 70/70 [01:43<00:00,  1.49s/it]\n",
      "Epoch [43/100], Valid Loss: 0.85393530, Valid angle loss: 0.58333337: 100%|██████████| 18/18 [00:25<00:00,  1.40s/it] \n"
     ]
    },
    {
     "name": "stdout",
     "output_type": "stream",
     "text": [
      "Epoch [43/100], T_Train Loss: 0.66791197, T_Train Angle Loss: 4.39315477\n",
      "Epoch [43/100], T_Valid Loss: 0.66642541, T_Valid Angle Loss: 4.03067130\n",
      "dataset43\n"
     ]
    },
    {
     "name": "stderr",
     "output_type": "stream",
     "text": [
      "Epoch [44/100], Train Loss: 0.53049153, Train angle loss: 0.11111111: 100%|██████████| 70/70 [01:33<00:00,  1.34s/it] \n",
      "Epoch [44/100], Valid Loss: 0.71170360, Valid angle loss: 0.33333334: 100%|██████████| 18/18 [00:21<00:00,  1.17s/it] \n"
     ]
    },
    {
     "name": "stdout",
     "output_type": "stream",
     "text": [
      "Epoch [44/100], T_Train Loss: 0.65999398, T_Train Angle Loss: 3.07078373\n",
      "Epoch [44/100], T_Valid Loss: 0.65563434, T_Valid Angle Loss: 5.07233796\n",
      "dataset44\n"
     ]
    },
    {
     "name": "stderr",
     "output_type": "stream",
     "text": [
      "Epoch [45/100], Train Loss: 1.04987991, Train angle loss: 20.00000000: 100%|██████████| 70/70 [01:38<00:00,  1.40s/it]\n",
      "Epoch [45/100], Valid Loss: 0.73313040, Valid angle loss: 0.25000000: 100%|██████████| 18/18 [00:16<00:00,  1.07it/s] \n"
     ]
    },
    {
     "name": "stdout",
     "output_type": "stream",
     "text": [
      "Epoch [45/100], T_Train Loss: 0.65875458, T_Train Angle Loss: 4.13616071\n",
      "Epoch [45/100], T_Valid Loss: 0.70559048, T_Valid Angle Loss: 3.40277778\n",
      "dataset45\n"
     ]
    },
    {
     "name": "stderr",
     "output_type": "stream",
     "text": [
      "Epoch [46/100], Train Loss: 0.35628641, Train angle loss: 0.11111111: 100%|██████████| 70/70 [01:37<00:00,  1.40s/it] \n",
      "Epoch [46/100], Valid Loss: 0.27885261, Valid angle loss: 15.00000000: 100%|██████████| 18/18 [00:19<00:00,  1.09s/it]\n"
     ]
    },
    {
     "name": "stdout",
     "output_type": "stream",
     "text": [
      "Epoch [46/100], T_Train Loss: 0.63250801, T_Train Angle Loss: 3.06140873\n",
      "Epoch [46/100], T_Valid Loss: 0.58491732, T_Valid Angle Loss: 3.06250000\n",
      "dataset46\n"
     ]
    },
    {
     "name": "stderr",
     "output_type": "stream",
     "text": [
      "Epoch [47/100], Train Loss: 0.75007606, Train angle loss: 0.33333334: 100%|██████████| 70/70 [01:32<00:00,  1.32s/it] \n",
      "Epoch [47/100], Valid Loss: 0.42623779, Valid angle loss: 0.00000000: 100%|██████████| 18/18 [00:20<00:00,  1.17s/it] \n"
     ]
    },
    {
     "name": "stdout",
     "output_type": "stream",
     "text": [
      "Epoch [47/100], T_Train Loss: 0.60577476, T_Train Angle Loss: 2.28869048\n",
      "Epoch [47/100], T_Valid Loss: 0.60395813, T_Valid Angle Loss: 4.58159722\n",
      "dataset47\n"
     ]
    },
    {
     "name": "stderr",
     "output_type": "stream",
     "text": [
      "Epoch [48/100], Train Loss: 0.60394263, Train angle loss: 0.22222222: 100%|██████████| 70/70 [01:35<00:00,  1.37s/it] \n",
      "Epoch [48/100], Valid Loss: 0.41758427, Valid angle loss: 0.25000000: 100%|██████████| 18/18 [00:17<00:00,  1.01it/s] \n"
     ]
    },
    {
     "name": "stdout",
     "output_type": "stream",
     "text": [
      "Epoch [48/100], T_Train Loss: 0.56724638, T_Train Angle Loss: 2.33263889\n",
      "Epoch [48/100], T_Valid Loss: 0.59088022, T_Valid Angle Loss: 4.90104167\n",
      "dataset48\n"
     ]
    },
    {
     "name": "stderr",
     "output_type": "stream",
     "text": [
      "Epoch [49/100], Train Loss: 1.11536551, Train angle loss: 20.11111069: 100%|██████████| 70/70 [01:27<00:00,  1.25s/it]\n",
      "Epoch [49/100], Valid Loss: 0.29525146, Valid angle loss: 0.08333334: 100%|██████████| 18/18 [00:16<00:00,  1.09it/s] \n"
     ]
    },
    {
     "name": "stdout",
     "output_type": "stream",
     "text": [
      "Epoch [49/100], T_Train Loss: 0.62506703, T_Train Angle Loss: 2.93774801\n",
      "Epoch [49/100], T_Valid Loss: 0.67396546, T_Valid Angle Loss: 4.02893519\n",
      "dataset49\n"
     ]
    },
    {
     "name": "stderr",
     "output_type": "stream",
     "text": [
      "Epoch [50/100], Train Loss: 0.37815326, Train angle loss: 0.00000000: 100%|██████████| 70/70 [01:33<00:00,  1.34s/it] \n",
      "Epoch [50/100], Valid Loss: 0.18708800, Valid angle loss: 0.00000000: 100%|██████████| 18/18 [00:22<00:00,  1.26s/it] \n"
     ]
    },
    {
     "name": "stdout",
     "output_type": "stream",
     "text": [
      "Epoch [50/100], T_Train Loss: 0.57603595, T_Train Angle Loss: 3.06026786\n",
      "Epoch [50/100], T_Valid Loss: 0.54275134, T_Valid Angle Loss: 3.28125000\n",
      "dataset50\n"
     ]
    },
    {
     "name": "stderr",
     "output_type": "stream",
     "text": [
      "Epoch [51/100], Train Loss: 0.30782840, Train angle loss: 0.11111111: 100%|██████████| 70/70 [01:38<00:00,  1.40s/it] \n",
      "Epoch [51/100], Valid Loss: 0.45640138, Valid angle loss: 0.25000000: 100%|██████████| 18/18 [00:21<00:00,  1.18s/it] \n"
     ]
    },
    {
     "name": "stdout",
     "output_type": "stream",
     "text": [
      "Epoch [51/100], T_Train Loss: 0.54690362, T_Train Angle Loss: 2.33283730\n",
      "Epoch [51/100], T_Valid Loss: 0.52301125, T_Valid Angle Loss: 4.35763889\n",
      "dataset51\n"
     ]
    },
    {
     "name": "stderr",
     "output_type": "stream",
     "text": [
      "Epoch [52/100], Train Loss: 0.31484902, Train angle loss: 0.11111111: 100%|██████████| 70/70 [01:40<00:00,  1.44s/it] \n",
      "Epoch [52/100], Valid Loss: 0.52080154, Valid angle loss: 0.08333334: 100%|██████████| 18/18 [00:15<00:00,  1.18it/s]\n"
     ]
    },
    {
     "name": "stdout",
     "output_type": "stream",
     "text": [
      "Epoch [52/100], T_Train Loss: 0.52219546, T_Train Angle Loss: 2.61364087\n",
      "Epoch [52/100], T_Valid Loss: 0.50183046, T_Valid Angle Loss: 3.72511574\n",
      "dataset52\n"
     ]
    },
    {
     "name": "stderr",
     "output_type": "stream",
     "text": [
      "Epoch [53/100], Train Loss: 0.70413595, Train angle loss: 0.55555558: 100%|██████████| 70/70 [01:35<00:00,  1.36s/it] \n",
      "Epoch [53/100], Valid Loss: 0.43029222, Valid angle loss: 0.25000000: 100%|██████████| 18/18 [00:21<00:00,  1.18s/it] \n"
     ]
    },
    {
     "name": "stdout",
     "output_type": "stream",
     "text": [
      "Epoch [53/100], T_Train Loss: 0.51444094, T_Train Angle Loss: 2.49543651\n",
      "Epoch [53/100], T_Valid Loss: 0.56184413, T_Valid Angle Loss: 4.55381944\n",
      "dataset53\n"
     ]
    },
    {
     "name": "stderr",
     "output_type": "stream",
     "text": [
      "Epoch [54/100], Train Loss: 0.27177012, Train angle loss: 0.00000000: 100%|██████████| 70/70 [01:42<00:00,  1.47s/it] \n",
      "Epoch [54/100], Valid Loss: 0.41104910, Valid angle loss: 0.16666667: 100%|██████████| 18/18 [00:19<00:00,  1.10s/it] \n"
     ]
    },
    {
     "name": "stdout",
     "output_type": "stream",
     "text": [
      "Epoch [54/100], T_Train Loss: 0.47156780, T_Train Angle Loss: 1.89464286\n",
      "Epoch [54/100], T_Valid Loss: 0.46961485, T_Valid Angle Loss: 3.72974537\n",
      "dataset54\n"
     ]
    },
    {
     "name": "stderr",
     "output_type": "stream",
     "text": [
      "Epoch [55/100], Train Loss: 0.46990743, Train angle loss: 20.00000000: 100%|██████████| 70/70 [01:33<00:00,  1.34s/it]\n",
      "Epoch [55/100], Valid Loss: 0.37345982, Valid angle loss: 0.00000000: 100%|██████████| 18/18 [00:19<00:00,  1.06s/it]\n"
     ]
    },
    {
     "name": "stdout",
     "output_type": "stream",
     "text": [
      "Epoch [55/100], T_Train Loss: 0.45870885, T_Train Angle Loss: 2.46250000\n",
      "Epoch [55/100], T_Valid Loss: 0.42218630, T_Valid Angle Loss: 2.30034722\n",
      "dataset55\n"
     ]
    },
    {
     "name": "stderr",
     "output_type": "stream",
     "text": [
      "Epoch [56/100], Train Loss: 0.38836765, Train angle loss: 0.00000000: 100%|██████████| 70/70 [01:26<00:00,  1.23s/it] \n",
      "Epoch [56/100], Valid Loss: 0.48480618, Valid angle loss: 0.16666667: 100%|██████████| 18/18 [00:19<00:00,  1.08s/it] \n"
     ]
    },
    {
     "name": "stdout",
     "output_type": "stream",
     "text": [
      "Epoch [56/100], T_Train Loss: 0.41108438, T_Train Angle Loss: 1.90625000\n",
      "Epoch [56/100], T_Valid Loss: 0.49891284, T_Valid Angle Loss: 3.28009259\n",
      "dataset56\n"
     ]
    },
    {
     "name": "stderr",
     "output_type": "stream",
     "text": [
      "Epoch [57/100], Train Loss: 0.18025512, Train angle loss: 0.00000000: 100%|██████████| 70/70 [01:35<00:00,  1.36s/it] \n",
      "Epoch [57/100], Valid Loss: 0.24641109, Valid angle loss: 0.00000000: 100%|██████████| 18/18 [00:20<00:00,  1.12s/it] \n"
     ]
    },
    {
     "name": "stdout",
     "output_type": "stream",
     "text": [
      "Epoch [57/100], T_Train Loss: 0.43301271, T_Train Angle Loss: 1.65312500\n",
      "Epoch [57/100], T_Valid Loss: 0.46099329, T_Valid Angle Loss: 4.50347222\n",
      "dataset57\n"
     ]
    },
    {
     "name": "stderr",
     "output_type": "stream",
     "text": [
      "Epoch [58/100], Train Loss: 0.52184278, Train angle loss: 0.33333334: 100%|██████████| 70/70 [01:41<00:00,  1.45s/it] \n",
      "Epoch [58/100], Valid Loss: 0.22337316, Valid angle loss: 0.00000000: 100%|██████████| 18/18 [00:20<00:00,  1.14s/it] \n"
     ]
    },
    {
     "name": "stdout",
     "output_type": "stream",
     "text": [
      "Epoch [58/100], T_Train Loss: 0.38305903, T_Train Angle Loss: 1.94672619\n",
      "Epoch [58/100], T_Valid Loss: 0.46312771, T_Valid Angle Loss: 3.56770833\n",
      "dataset58\n"
     ]
    },
    {
     "name": "stderr",
     "output_type": "stream",
     "text": [
      "Epoch [59/100], Train Loss: 0.25025293, Train angle loss: 0.00000000: 100%|██████████| 70/70 [01:36<00:00,  1.37s/it]\n",
      "Epoch [59/100], Valid Loss: 0.37974241, Valid angle loss: 0.08333334: 100%|██████████| 18/18 [00:19<00:00,  1.10s/it] \n"
     ]
    },
    {
     "name": "stdout",
     "output_type": "stream",
     "text": [
      "Epoch [59/100], T_Train Loss: 0.40739812, T_Train Angle Loss: 1.59196429\n",
      "Epoch [59/100], T_Valid Loss: 0.41215798, T_Valid Angle Loss: 3.68171296\n",
      "dataset59\n"
     ]
    },
    {
     "name": "stderr",
     "output_type": "stream",
     "text": [
      "Epoch [60/100], Train Loss: 0.26296461, Train angle loss: 0.11111111: 100%|██████████| 70/70 [01:44<00:00,  1.49s/it] \n",
      "Epoch [60/100], Valid Loss: 0.43675300, Valid angle loss: 0.08333334: 100%|██████████| 18/18 [00:17<00:00,  1.06it/s] \n"
     ]
    },
    {
     "name": "stdout",
     "output_type": "stream",
     "text": [
      "Epoch [60/100], T_Train Loss: 0.41796212, T_Train Angle Loss: 1.76140873\n",
      "Epoch [60/100], T_Valid Loss: 0.39772615, T_Valid Angle Loss: 3.83101852\n",
      "dataset60\n"
     ]
    },
    {
     "name": "stderr",
     "output_type": "stream",
     "text": [
      "Epoch [61/100], Train Loss: 0.28228384, Train angle loss: 0.00000000: 100%|██████████| 70/70 [01:31<00:00,  1.30s/it] \n",
      "Epoch [61/100], Valid Loss: 0.32097843, Valid angle loss: 0.08333334: 100%|██████████| 18/18 [00:17<00:00,  1.03it/s] \n"
     ]
    },
    {
     "name": "stdout",
     "output_type": "stream",
     "text": [
      "Epoch [61/100], T_Train Loss: 0.35830304, T_Train Angle Loss: 1.83258929\n",
      "Epoch [61/100], T_Valid Loss: 0.39616036, T_Valid Angle Loss: 4.15046296\n",
      "dataset61\n"
     ]
    },
    {
     "name": "stderr",
     "output_type": "stream",
     "text": [
      "Epoch [62/100], Train Loss: 0.71878946, Train angle loss: 0.22222222: 100%|██████████| 70/70 [01:33<00:00,  1.33s/it] \n",
      "Epoch [62/100], Valid Loss: 0.44280693, Valid angle loss: 0.16666667: 100%|██████████| 18/18 [00:25<00:00,  1.42s/it] \n"
     ]
    },
    {
     "name": "stdout",
     "output_type": "stream",
     "text": [
      "Epoch [62/100], T_Train Loss: 0.34672182, T_Train Angle Loss: 1.63174603\n",
      "Epoch [62/100], T_Valid Loss: 0.36528228, T_Valid Angle Loss: 2.72106482\n",
      "dataset62\n"
     ]
    },
    {
     "name": "stderr",
     "output_type": "stream",
     "text": [
      "Epoch [63/100], Train Loss: 0.32777661, Train angle loss: 0.22222222: 100%|██████████| 70/70 [01:40<00:00,  1.44s/it] \n",
      "Epoch [63/100], Valid Loss: 0.26276222, Valid angle loss: 0.00000000: 100%|██████████| 18/18 [00:19<00:00,  1.06s/it] \n"
     ]
    },
    {
     "name": "stdout",
     "output_type": "stream",
     "text": [
      "Epoch [63/100], T_Train Loss: 0.36519984, T_Train Angle Loss: 1.72058532\n",
      "Epoch [63/100], T_Valid Loss: 0.35688229, T_Valid Angle Loss: 3.78819444\n",
      "dataset63\n"
     ]
    },
    {
     "name": "stderr",
     "output_type": "stream",
     "text": [
      "Epoch [64/100], Train Loss: 0.12445736, Train angle loss: 0.00000000: 100%|██████████| 70/70 [01:40<00:00,  1.43s/it]\n",
      "Epoch [64/100], Valid Loss: 0.19139612, Valid angle loss: 0.00000000: 100%|██████████| 18/18 [00:19<00:00,  1.06s/it]\n"
     ]
    },
    {
     "name": "stdout",
     "output_type": "stream",
     "text": [
      "Epoch [64/100], T_Train Loss: 0.34357456, T_Train Angle Loss: 1.63928571\n",
      "Epoch [64/100], T_Valid Loss: 0.36229006, T_Valid Angle Loss: 2.71006944\n",
      "dataset64\n"
     ]
    },
    {
     "name": "stderr",
     "output_type": "stream",
     "text": [
      "Epoch [65/100], Train Loss: 0.06528356, Train angle loss: 0.00000000: 100%|██████████| 70/70 [01:38<00:00,  1.41s/it] \n",
      "Epoch [65/100], Valid Loss: 0.18659002, Valid angle loss: 0.00000000: 100%|██████████| 18/18 [00:22<00:00,  1.24s/it] \n"
     ]
    },
    {
     "name": "stdout",
     "output_type": "stream",
     "text": [
      "Epoch [65/100], T_Train Loss: 0.33135712, T_Train Angle Loss: 1.50178571\n",
      "Epoch [65/100], T_Valid Loss: 0.31924731, T_Valid Angle Loss: 2.24131944\n",
      "dataset65\n"
     ]
    },
    {
     "name": "stderr",
     "output_type": "stream",
     "text": [
      "Epoch [66/100], Train Loss: 0.45915571, Train angle loss: 0.11111111: 100%|██████████| 70/70 [01:31<00:00,  1.30s/it] \n",
      "Epoch [66/100], Valid Loss: 0.26513255, Valid angle loss: 0.16666667: 100%|██████████| 18/18 [00:17<00:00,  1.02it/s] \n"
     ]
    },
    {
     "name": "stdout",
     "output_type": "stream",
     "text": [
      "Epoch [66/100], T_Train Loss: 0.33199557, T_Train Angle Loss: 1.42078373\n",
      "Epoch [66/100], T_Valid Loss: 0.36897539, T_Valid Angle Loss: 3.34432870\n",
      "dataset66\n"
     ]
    },
    {
     "name": "stderr",
     "output_type": "stream",
     "text": [
      "Epoch [67/100], Train Loss: 0.07401393, Train angle loss: 0.00000000: 100%|██████████| 70/70 [01:34<00:00,  1.35s/it]\n",
      "Epoch [67/100], Valid Loss: 0.36537445, Valid angle loss: 0.00000000: 100%|██████████| 18/18 [00:18<00:00,  1.03s/it]\n"
     ]
    },
    {
     "name": "stdout",
     "output_type": "stream",
     "text": [
      "Epoch [67/100], T_Train Loss: 0.30752758, T_Train Angle Loss: 1.14375000\n",
      "Epoch [67/100], T_Valid Loss: 0.33891043, T_Valid Angle Loss: 1.92881944\n",
      "dataset67\n"
     ]
    },
    {
     "name": "stderr",
     "output_type": "stream",
     "text": [
      "Epoch [68/100], Train Loss: 0.55559391, Train angle loss: 20.00000000: 100%|██████████| 70/70 [01:41<00:00,  1.46s/it]\n",
      "Epoch [68/100], Valid Loss: 0.39835814, Valid angle loss: 15.00000000: 100%|██████████| 18/18 [00:20<00:00,  1.14s/it]\n"
     ]
    },
    {
     "name": "stdout",
     "output_type": "stream",
     "text": [
      "Epoch [68/100], T_Train Loss: 0.31694243, T_Train Angle Loss: 1.89955357\n",
      "Epoch [68/100], T_Valid Loss: 0.30981388, T_Valid Angle Loss: 3.06423611\n",
      "dataset68\n"
     ]
    },
    {
     "name": "stderr",
     "output_type": "stream",
     "text": [
      "Epoch [69/100], Train Loss: 0.78023148, Train angle loss: 0.11111111: 100%|██████████| 70/70 [01:36<00:00,  1.38s/it] \n",
      "Epoch [69/100], Valid Loss: 0.27128169, Valid angle loss: 0.08333334: 100%|██████████| 18/18 [00:17<00:00,  1.03it/s] \n"
     ]
    },
    {
     "name": "stdout",
     "output_type": "stream",
     "text": [
      "Epoch [69/100], T_Train Loss: 0.29646221, T_Train Angle Loss: 1.68685516\n",
      "Epoch [69/100], T_Valid Loss: 0.32544422, T_Valid Angle Loss: 3.48206019\n",
      "dataset69\n"
     ]
    },
    {
     "name": "stderr",
     "output_type": "stream",
     "text": [
      "Epoch [70/100], Train Loss: 0.20349091, Train angle loss: 0.00000000: 100%|██████████| 70/70 [01:38<00:00,  1.40s/it] \n",
      "Epoch [70/100], Valid Loss: 0.28407863, Valid angle loss: 0.08333334: 100%|██████████| 18/18 [00:22<00:00,  1.23s/it] \n"
     ]
    },
    {
     "name": "stdout",
     "output_type": "stream",
     "text": [
      "Epoch [70/100], T_Train Loss: 0.30542607, T_Train Angle Loss: 1.44732143\n",
      "Epoch [70/100], T_Valid Loss: 0.36342953, T_Valid Angle Loss: 3.19212963\n",
      "dataset70\n"
     ]
    },
    {
     "name": "stderr",
     "output_type": "stream",
     "text": [
      "Epoch [71/100], Train Loss: 0.49280092, Train angle loss: 0.11111111: 100%|██████████| 70/70 [01:33<00:00,  1.33s/it] \n",
      "Epoch [71/100], Valid Loss: 0.13048019, Valid angle loss: 0.00000000: 100%|██████████| 18/18 [00:18<00:00,  1.02s/it]\n"
     ]
    },
    {
     "name": "stdout",
     "output_type": "stream",
     "text": [
      "Epoch [71/100], T_Train Loss: 0.31546661, T_Train Angle Loss: 1.94355159\n",
      "Epoch [71/100], T_Valid Loss: 0.28809364, T_Valid Angle Loss: 2.53993056\n",
      "dataset71\n"
     ]
    },
    {
     "name": "stderr",
     "output_type": "stream",
     "text": [
      "Epoch [72/100], Train Loss: 0.15891413, Train angle loss: 0.00000000: 100%|██████████| 70/70 [01:38<00:00,  1.40s/it]\n",
      "Epoch [72/100], Valid Loss: 0.36586571, Valid angle loss: 0.16666667: 100%|██████████| 18/18 [00:23<00:00,  1.30s/it] \n"
     ]
    },
    {
     "name": "stdout",
     "output_type": "stream",
     "text": [
      "Epoch [72/100], T_Train Loss: 0.28831944, T_Train Angle Loss: 1.37142857\n",
      "Epoch [72/100], T_Valid Loss: 0.31154184, T_Valid Angle Loss: 2.64641204\n",
      "dataset72\n"
     ]
    },
    {
     "name": "stderr",
     "output_type": "stream",
     "text": [
      "Epoch [73/100], Train Loss: 0.28661519, Train angle loss: 0.00000000: 100%|██████████| 70/70 [01:29<00:00,  1.28s/it]\n",
      "Epoch [73/100], Valid Loss: 0.22034489, Valid angle loss: 0.00000000: 100%|██████████| 18/18 [00:17<00:00,  1.00it/s] \n"
     ]
    },
    {
     "name": "stdout",
     "output_type": "stream",
     "text": [
      "Epoch [73/100], T_Train Loss: 0.27604596, T_Train Angle Loss: 1.12098214\n",
      "Epoch [73/100], T_Valid Loss: 0.31786975, T_Valid Angle Loss: 2.68750000\n",
      "dataset73\n"
     ]
    },
    {
     "name": "stderr",
     "output_type": "stream",
     "text": [
      "Epoch [74/100], Train Loss: 0.11604577, Train angle loss: 0.00000000: 100%|██████████| 70/70 [01:40<00:00,  1.43s/it] \n",
      "Epoch [74/100], Valid Loss: 0.18862753, Valid angle loss: 0.00000000: 100%|██████████| 18/18 [00:19<00:00,  1.07s/it]\n"
     ]
    },
    {
     "name": "stdout",
     "output_type": "stream",
     "text": [
      "Epoch [74/100], T_Train Loss: 0.30340454, T_Train Angle Loss: 1.69598214\n",
      "Epoch [74/100], T_Valid Loss: 0.27928094, T_Valid Angle Loss: 1.43576389\n",
      "dataset74\n"
     ]
    },
    {
     "name": "stderr",
     "output_type": "stream",
     "text": [
      "Epoch [75/100], Train Loss: 0.29011056, Train angle loss: 0.00000000: 100%|██████████| 70/70 [01:38<00:00,  1.40s/it]\n",
      "Epoch [75/100], Valid Loss: 0.61637044, Valid angle loss: 0.16666667: 100%|██████████| 18/18 [00:18<00:00,  1.03s/it] \n"
     ]
    },
    {
     "name": "stdout",
     "output_type": "stream",
     "text": [
      "Epoch [75/100], T_Train Loss: 0.27453033, T_Train Angle Loss: 0.96383929\n",
      "Epoch [75/100], T_Valid Loss: 0.33276430, T_Valid Angle Loss: 2.25231482\n",
      "dataset75\n"
     ]
    },
    {
     "name": "stderr",
     "output_type": "stream",
     "text": [
      "Epoch [76/100], Train Loss: 0.16938527, Train angle loss: 0.00000000: 100%|██████████| 70/70 [01:41<00:00,  1.44s/it]\n",
      "Epoch [76/100], Valid Loss: 0.29536584, Valid angle loss: 0.00000000: 100%|██████████| 18/18 [00:18<00:00,  1.01s/it] \n"
     ]
    },
    {
     "name": "stdout",
     "output_type": "stream",
     "text": [
      "Epoch [76/100], T_Train Loss: 0.28086262, T_Train Angle Loss: 1.56250000\n",
      "Epoch [76/100], T_Valid Loss: 0.28667956, T_Valid Angle Loss: 2.53645833\n",
      "dataset76\n"
     ]
    },
    {
     "name": "stderr",
     "output_type": "stream",
     "text": [
      "Epoch [77/100], Train Loss: 0.20615676, Train angle loss: 0.00000000: 100%|██████████| 70/70 [01:38<00:00,  1.41s/it]\n",
      "Epoch [77/100], Valid Loss: 0.22078168, Valid angle loss: 0.00000000: 100%|██████████| 18/18 [00:18<00:00,  1.06s/it] \n"
     ]
    },
    {
     "name": "stdout",
     "output_type": "stream",
     "text": [
      "Epoch [77/100], T_Train Loss: 0.27112700, T_Train Angle Loss: 1.19687500\n",
      "Epoch [77/100], T_Valid Loss: 0.28753754, T_Valid Angle Loss: 3.15277778\n",
      "dataset77\n"
     ]
    },
    {
     "name": "stderr",
     "output_type": "stream",
     "text": [
      "Epoch [78/100], Train Loss: 0.17111348, Train angle loss: 0.00000000: 100%|██████████| 70/70 [01:33<00:00,  1.33s/it]\n",
      "Epoch [78/100], Valid Loss: 0.23232245, Valid angle loss: 0.08333334: 100%|██████████| 18/18 [00:20<00:00,  1.14s/it] \n"
     ]
    },
    {
     "name": "stdout",
     "output_type": "stream",
     "text": [
      "Epoch [78/100], T_Train Loss: 0.28790225, T_Train Angle Loss: 1.01205357\n",
      "Epoch [78/100], T_Valid Loss: 0.31925436, T_Valid Angle Loss: 2.86574074\n",
      "dataset78\n"
     ]
    },
    {
     "name": "stderr",
     "output_type": "stream",
     "text": [
      "Epoch [79/100], Train Loss: 0.21763486, Train angle loss: 0.00000000: 100%|██████████| 70/70 [01:43<00:00,  1.48s/it] \n",
      "Epoch [79/100], Valid Loss: 0.16512482, Valid angle loss: 0.00000000: 100%|██████████| 18/18 [00:21<00:00,  1.19s/it] \n"
     ]
    },
    {
     "name": "stdout",
     "output_type": "stream",
     "text": [
      "Epoch [79/100], T_Train Loss: 0.27188761, T_Train Angle Loss: 1.20178571\n",
      "Epoch [79/100], T_Valid Loss: 0.30162523, T_Valid Angle Loss: 2.23437500\n",
      "dataset79\n"
     ]
    },
    {
     "name": "stderr",
     "output_type": "stream",
     "text": [
      "Epoch [80/100], Train Loss: 0.14888896, Train angle loss: 0.00000000: 100%|██████████| 70/70 [01:32<00:00,  1.32s/it] \n",
      "Epoch [80/100], Valid Loss: 0.25393966, Valid angle loss: 0.00000000: 100%|██████████| 18/18 [00:17<00:00,  1.01it/s] \n"
     ]
    },
    {
     "name": "stdout",
     "output_type": "stream",
     "text": [
      "Epoch [80/100], T_Train Loss: 0.26834671, T_Train Angle Loss: 1.43348214\n",
      "Epoch [80/100], T_Valid Loss: 0.27125564, T_Valid Angle Loss: 2.21701389\n",
      "dataset80\n"
     ]
    },
    {
     "name": "stderr",
     "output_type": "stream",
     "text": [
      "Epoch [81/100], Train Loss: 0.17364581, Train angle loss: 0.00000000: 100%|██████████| 70/70 [01:34<00:00,  1.35s/it]\n",
      "Epoch [81/100], Valid Loss: 0.13295247, Valid angle loss: 0.00000000: 100%|██████████| 18/18 [00:20<00:00,  1.15s/it] \n"
     ]
    },
    {
     "name": "stdout",
     "output_type": "stream",
     "text": [
      "Epoch [81/100], T_Train Loss: 0.26939777, T_Train Angle Loss: 1.11473214\n",
      "Epoch [81/100], T_Valid Loss: 0.28990006, T_Valid Angle Loss: 2.52951389\n",
      "dataset81\n"
     ]
    },
    {
     "name": "stderr",
     "output_type": "stream",
     "text": [
      "Epoch [82/100], Train Loss: 0.20995337, Train angle loss: 0.00000000: 100%|██████████| 70/70 [01:34<00:00,  1.36s/it] \n",
      "Epoch [82/100], Valid Loss: 0.14797921, Valid angle loss: 0.00000000: 100%|██████████| 18/18 [00:18<00:00,  1.01s/it] \n"
     ]
    },
    {
     "name": "stdout",
     "output_type": "stream",
     "text": [
      "Epoch [82/100], T_Train Loss: 0.27335608, T_Train Angle Loss: 1.43750000\n",
      "Epoch [82/100], T_Valid Loss: 0.28654536, T_Valid Angle Loss: 2.51909722\n",
      "dataset82\n"
     ]
    },
    {
     "name": "stderr",
     "output_type": "stream",
     "text": [
      "Epoch [83/100], Train Loss: 0.19545674, Train angle loss: 0.00000000: 100%|██████████| 70/70 [01:40<00:00,  1.43s/it]\n",
      "Epoch [83/100], Valid Loss: 0.15078694, Valid angle loss: 0.00000000: 100%|██████████| 18/18 [00:21<00:00,  1.18s/it] \n"
     ]
    },
    {
     "name": "stdout",
     "output_type": "stream",
     "text": [
      "Epoch [83/100], T_Train Loss: 0.27058993, T_Train Angle Loss: 1.07991071\n",
      "Epoch [83/100], T_Valid Loss: 0.28797187, T_Valid Angle Loss: 3.46875000\n",
      "dataset83\n"
     ]
    },
    {
     "name": "stderr",
     "output_type": "stream",
     "text": [
      "Epoch [84/100], Train Loss: 0.47068065, Train angle loss: 0.11111111: 100%|██████████| 70/70 [01:37<00:00,  1.40s/it] \n",
      "Epoch [84/100], Valid Loss: 0.19319259, Valid angle loss: 0.00000000: 100%|██████████| 18/18 [00:25<00:00,  1.41s/it] \n"
     ]
    },
    {
     "name": "stdout",
     "output_type": "stream",
     "text": [
      "Epoch [84/100], T_Train Loss: 0.29048588, T_Train Angle Loss: 2.20560516\n",
      "Epoch [84/100], T_Valid Loss: 0.34786489, T_Valid Angle Loss: 2.24479167\n",
      "dataset84\n"
     ]
    },
    {
     "name": "stderr",
     "output_type": "stream",
     "text": [
      "Epoch [85/100], Train Loss: 0.21475488, Train angle loss: 0.00000000: 100%|██████████| 70/70 [01:38<00:00,  1.41s/it] \n",
      "Epoch [85/100], Valid Loss: 0.18228219, Valid angle loss: 0.00000000: 100%|██████████| 18/18 [00:17<00:00,  1.03it/s] \n"
     ]
    },
    {
     "name": "stdout",
     "output_type": "stream",
     "text": [
      "Epoch [85/100], T_Train Loss: 0.28061246, T_Train Angle Loss: 1.04062500\n",
      "Epoch [85/100], T_Valid Loss: 0.27766701, T_Valid Angle Loss: 2.52083333\n",
      "dataset85\n"
     ]
    },
    {
     "name": "stderr",
     "output_type": "stream",
     "text": [
      "Epoch [86/100], Train Loss: 0.42191648, Train angle loss: 0.11111111: 100%|██████████| 70/70 [01:31<00:00,  1.31s/it] \n",
      "Epoch [86/100], Valid Loss: 0.36412725, Valid angle loss: 0.08333334: 100%|██████████| 18/18 [00:18<00:00,  1.01s/it] \n"
     ]
    },
    {
     "name": "stdout",
     "output_type": "stream",
     "text": [
      "Epoch [86/100], T_Train Loss: 0.27969410, T_Train Angle Loss: 1.60024802\n",
      "Epoch [86/100], T_Valid Loss: 0.29721348, T_Valid Angle Loss: 2.23379630\n",
      "dataset86\n"
     ]
    },
    {
     "name": "stderr",
     "output_type": "stream",
     "text": [
      "Epoch [87/100], Train Loss: 0.29502413, Train angle loss: 0.11111111: 100%|██████████| 70/70 [01:31<00:00,  1.31s/it] \n",
      "Epoch [87/100], Valid Loss: 0.22723168, Valid angle loss: 0.00000000: 100%|██████████| 18/18 [00:17<00:00,  1.05it/s] \n"
     ]
    },
    {
     "name": "stdout",
     "output_type": "stream",
     "text": [
      "Epoch [87/100], T_Train Loss: 0.27136525, T_Train Angle Loss: 1.03328373\n",
      "Epoch [87/100], T_Valid Loss: 0.27470118, T_Valid Angle Loss: 3.15104167\n",
      "dataset87\n"
     ]
    },
    {
     "name": "stderr",
     "output_type": "stream",
     "text": [
      "Epoch [88/100], Train Loss: 0.18894374, Train angle loss: 0.11111111: 100%|██████████| 70/70 [01:35<00:00,  1.36s/it]\n",
      "Epoch [88/100], Valid Loss: 0.24102342, Valid angle loss: 0.00000000: 100%|██████████| 18/18 [00:21<00:00,  1.21s/it]\n"
     ]
    },
    {
     "name": "stdout",
     "output_type": "stream",
     "text": [
      "Epoch [88/100], T_Train Loss: 0.28485672, T_Train Angle Loss: 1.69087302\n",
      "Epoch [88/100], T_Valid Loss: 0.32836195, T_Valid Angle Loss: 2.39583333\n",
      "dataset88\n"
     ]
    },
    {
     "name": "stderr",
     "output_type": "stream",
     "text": [
      "Epoch [89/100], Train Loss: 0.06551901, Train angle loss: 0.00000000: 100%|██████████| 70/70 [01:32<00:00,  1.33s/it] \n",
      "Epoch [89/100], Valid Loss: 0.51264071, Valid angle loss: 0.08333334: 100%|██████████| 18/18 [00:18<00:00,  1.03s/it]\n"
     ]
    },
    {
     "name": "stdout",
     "output_type": "stream",
     "text": [
      "Epoch [89/100], T_Train Loss: 0.26227461, T_Train Angle Loss: 1.23571429\n",
      "Epoch [89/100], T_Valid Loss: 0.32562619, T_Valid Angle Loss: 2.54803241\n",
      "dataset89\n"
     ]
    },
    {
     "name": "stderr",
     "output_type": "stream",
     "text": [
      "Epoch [90/100], Train Loss: 0.23440117, Train angle loss: 0.00000000: 100%|██████████| 70/70 [01:33<00:00,  1.33s/it] \n",
      "Epoch [90/100], Valid Loss: 0.31676945, Valid angle loss: 0.08333334: 100%|██████████| 18/18 [00:21<00:00,  1.22s/it]\n"
     ]
    },
    {
     "name": "stdout",
     "output_type": "stream",
     "text": [
      "Epoch [90/100], T_Train Loss: 0.27624239, T_Train Angle Loss: 1.08571429\n",
      "Epoch [90/100], T_Valid Loss: 0.27260714, T_Valid Angle Loss: 2.07060185\n",
      "dataset90\n"
     ]
    },
    {
     "name": "stderr",
     "output_type": "stream",
     "text": [
      "Epoch [91/100], Train Loss: 0.11598909, Train angle loss: 0.00000000: 100%|██████████| 70/70 [01:44<00:00,  1.49s/it] \n",
      "Epoch [91/100], Valid Loss: 0.20980161, Valid angle loss: 0.00000000: 100%|██████████| 18/18 [00:18<00:00,  1.05s/it]\n"
     ]
    },
    {
     "name": "stdout",
     "output_type": "stream",
     "text": [
      "Epoch [91/100], T_Train Loss: 0.28350683, T_Train Angle Loss: 1.77723214\n",
      "Epoch [91/100], T_Valid Loss: 0.28431994, T_Valid Angle Loss: 1.59375000\n",
      "dataset91\n"
     ]
    },
    {
     "name": "stderr",
     "output_type": "stream",
     "text": [
      "Epoch [92/100], Train Loss: 0.25669467, Train angle loss: 0.11111111: 100%|██████████| 70/70 [01:33<00:00,  1.34s/it] \n",
      "Epoch [92/100], Valid Loss: 0.14709248, Valid angle loss: 0.00000000: 100%|██████████| 18/18 [00:21<00:00,  1.18s/it]\n"
     ]
    },
    {
     "name": "stdout",
     "output_type": "stream",
     "text": [
      "Epoch [92/100], T_Train Loss: 0.27114603, T_Train Angle Loss: 1.51542659\n",
      "Epoch [92/100], T_Valid Loss: 0.28700338, T_Valid Angle Loss: 1.91666667\n",
      "dataset92\n"
     ]
    },
    {
     "name": "stderr",
     "output_type": "stream",
     "text": [
      "Epoch [93/100], Train Loss: 0.26739046, Train angle loss: 0.00000000: 100%|██████████| 70/70 [01:35<00:00,  1.36s/it]\n",
      "Epoch [93/100], Valid Loss: 0.18046643, Valid angle loss: 0.00000000: 100%|██████████| 18/18 [00:20<00:00,  1.15s/it] \n"
     ]
    },
    {
     "name": "stdout",
     "output_type": "stream",
     "text": [
      "Epoch [93/100], T_Train Loss: 0.27821640, T_Train Angle Loss: 1.24285714\n",
      "Epoch [93/100], T_Valid Loss: 0.29607531, T_Valid Angle Loss: 2.55034722\n",
      "dataset93\n"
     ]
    },
    {
     "name": "stderr",
     "output_type": "stream",
     "text": [
      "Epoch [94/100], Train Loss: 0.30112872, Train angle loss: 0.00000000: 100%|██████████| 70/70 [01:37<00:00,  1.40s/it]\n",
      "Epoch [94/100], Valid Loss: 0.20028709, Valid angle loss: 0.00000000: 100%|██████████| 18/18 [00:19<00:00,  1.09s/it] \n"
     ]
    },
    {
     "name": "stdout",
     "output_type": "stream",
     "text": [
      "Epoch [94/100], T_Train Loss: 0.26430079, T_Train Angle Loss: 0.96562500\n",
      "Epoch [94/100], T_Valid Loss: 0.29615621, T_Valid Angle Loss: 3.15451389\n",
      "dataset94\n"
     ]
    },
    {
     "name": "stderr",
     "output_type": "stream",
     "text": [
      "Epoch [95/100], Train Loss: 0.15907851, Train angle loss: 0.00000000: 100%|██████████| 70/70 [01:39<00:00,  1.41s/it] \n",
      "Epoch [95/100], Valid Loss: 0.23719485, Valid angle loss: 0.00000000: 100%|██████████| 18/18 [00:21<00:00,  1.21s/it] \n"
     ]
    },
    {
     "name": "stdout",
     "output_type": "stream",
     "text": [
      "Epoch [95/100], T_Train Loss: 0.28011200, T_Train Angle Loss: 1.45000000\n",
      "Epoch [95/100], T_Valid Loss: 0.36450835, T_Valid Angle Loss: 3.52777778\n",
      "dataset95\n"
     ]
    },
    {
     "name": "stderr",
     "output_type": "stream",
     "text": [
      "Epoch [96/100], Train Loss: 0.20849875, Train angle loss: 0.00000000: 100%|██████████| 70/70 [01:30<00:00,  1.29s/it]\n",
      "Epoch [96/100], Valid Loss: 0.13737662, Valid angle loss: 0.00000000: 100%|██████████| 18/18 [00:21<00:00,  1.18s/it] \n"
     ]
    },
    {
     "name": "stdout",
     "output_type": "stream",
     "text": [
      "Epoch [96/100], T_Train Loss: 0.26137424, T_Train Angle Loss: 0.81116071\n",
      "Epoch [96/100], T_Valid Loss: 0.24522781, T_Valid Angle Loss: 2.22222222\n",
      "dataset96\n"
     ]
    },
    {
     "name": "stderr",
     "output_type": "stream",
     "text": [
      "Epoch [97/100], Train Loss: 0.26825351, Train angle loss: 0.00000000: 100%|██████████| 70/70 [01:36<00:00,  1.37s/it]\n",
      "Epoch [97/100], Valid Loss: 0.17922832, Valid angle loss: 0.00000000: 100%|██████████| 18/18 [00:18<00:00,  1.05s/it] \n"
     ]
    },
    {
     "name": "stdout",
     "output_type": "stream",
     "text": [
      "Epoch [97/100], T_Train Loss: 0.27791026, T_Train Angle Loss: 1.05312500\n",
      "Epoch [97/100], T_Valid Loss: 0.34051765, T_Valid Angle Loss: 2.56597222\n",
      "dataset97\n"
     ]
    },
    {
     "name": "stderr",
     "output_type": "stream",
     "text": [
      "Epoch [98/100], Train Loss: 0.46571249, Train angle loss: 0.22222222: 100%|██████████| 70/70 [01:33<00:00,  1.34s/it] \n",
      "Epoch [98/100], Valid Loss: 0.18611865, Valid angle loss: 0.08333334: 100%|██████████| 18/18 [00:18<00:00,  1.02s/it] \n"
     ]
    },
    {
     "name": "stdout",
     "output_type": "stream",
     "text": [
      "Epoch [98/100], T_Train Loss: 0.28012703, T_Train Angle Loss: 1.14246032\n",
      "Epoch [98/100], T_Valid Loss: 0.29361674, T_Valid Angle Loss: 2.86400463\n",
      "dataset98\n"
     ]
    },
    {
     "name": "stderr",
     "output_type": "stream",
     "text": [
      "Epoch [99/100], Train Loss: 0.20118208, Train angle loss: 0.00000000: 100%|██████████| 70/70 [01:31<00:00,  1.31s/it] \n",
      "Epoch [99/100], Valid Loss: 0.18563353, Valid angle loss: 0.08333334: 100%|██████████| 18/18 [00:18<00:00,  1.02s/it]\n"
     ]
    },
    {
     "name": "stdout",
     "output_type": "stream",
     "text": [
      "Epoch [99/100], T_Train Loss: 0.29487926, T_Train Angle Loss: 1.62276786\n",
      "Epoch [99/100], T_Valid Loss: 0.28654114, T_Valid Angle Loss: 1.30324074\n",
      "dataset99\n"
     ]
    },
    {
     "name": "stderr",
     "output_type": "stream",
     "text": [
      "Epoch [100/100], Train Loss: 0.78237033, Train angle loss: 0.55555558: 100%|██████████| 70/70 [01:45<00:00,  1.51s/it]\n",
      "Epoch [100/100], Valid Loss: 0.14517120, Valid angle loss: 0.08333334: 100%|██████████| 18/18 [00:21<00:00,  1.18s/it]"
     ]
    },
    {
     "name": "stdout",
     "output_type": "stream",
     "text": [
      "Epoch [100/100], T_Train Loss: 0.28754946, T_Train Angle Loss: 1.16507937\n",
      "Epoch [100/100], T_Valid Loss: 0.31895255, T_Valid Angle Loss: 1.81192130\n",
      "Best valid loss : 0.245228\n"
     ]
    },
    {
     "name": "stderr",
     "output_type": "stream",
     "text": [
      "\n"
     ]
    }
   ],
   "source": [
    "# 모델 전체 fine tuning\n",
    "model.to(device)\n",
    "num_epochs = EPOCHS\n",
    "lr = LR\n",
    "patience = PATIENCE\n",
    "filename = FILENAME\n",
    "\n",
    "# optimizer = optim.RMSprop(model.parameters(), lr=LR, alpha=0.9)\n",
    "optimizer = optim.AdamW(model.parameters(), lr=lr, weight_decay=0.05)\n",
    "# optimizer = optim.Adam(model.parameters(), lr=LR)\n",
    "\n",
    "# scheduler = optim.lr_scheduler.CyclicLR(optimizer, base_lr=1e-4, max_lr=LR, step_size_up=10, step_size_down=20, mode='triangular')\n",
    "\n",
    "num_training_steps = num_epochs * len(trn_loader) * 2\n",
    "scheduler = get_scheduler(\n",
    "    name='cosine', optimizer=optimizer, \n",
    "    num_warmup_steps=0, \n",
    "    num_training_steps=num_training_steps\n",
    ")\n",
    "\n",
    "model, best_valid_loss = training_loop(model, trn_loader, val_loader, trn_dataset, val_dataset, aug_trn_dataset_list, aug_val_dataset_list, loss_fn, optimizer, scheduler, device, num_epochs, patience, filename)\n",
    "print(f'Best valid loss : {best_valid_loss:5f}')"
   ]
  },
  {
   "cell_type": "markdown",
   "metadata": {},
   "source": [
    "## 7 Test Inference"
   ]
  },
  {
   "cell_type": "code",
   "execution_count": 54,
   "metadata": {},
   "outputs": [],
   "source": [
    "def infer_eval(model, dataloader, device, is_test):\n",
    "    model.eval()  # 모델을 평가 모드로 설정\n",
    "    valid_loss = 0.0\n",
    "    valid_angle_loss = 0.0\n",
    "    preds_list = []\n",
    "    targets_list = []\n",
    "    loss_fn = nn.CrossEntropyLoss()\n",
    "\n",
    "    with torch.no_grad(): # model의 업데이트 막기\n",
    "        tbar = tqdm(dataloader)\n",
    "        for idx, (image, targets) in enumerate(tbar):\n",
    "            image = image.to(device)\n",
    "            targets = targets.to(device)\n",
    "\n",
    "            # 순전파\n",
    "            model.zero_grad(set_to_none=True)\n",
    "            preds = model(image)\n",
    "            if not is_test:\n",
    "                loss = loss_fn(preds, targets)\n",
    "                angle_loss = angle_error(preds, targets)\n",
    "\n",
    "            preds_list.extend(preds.argmax(dim=1).detach().cpu().numpy())\n",
    "            targets_list.extend(targets.detach().cpu().numpy())\n",
    "            \n",
    "            # 손실과 정확도 계산\n",
    "            if not is_test:\n",
    "                valid_loss += loss.item()\n",
    "                valid_angle_loss += angle_loss.item()\n",
    "                tbar.set_description(f\"Valid Loss: {loss.item():.6f}, Valid angle loss: {angle_loss:.6f}\")\n",
    "\n",
    "    # 에폭별 학습 결과 출력\n",
    "    if not is_test:   \n",
    "        valid_loss = valid_loss / len(dataloader)\n",
    "        valid_angle_loss = valid_angle_loss / len(dataloader)\n",
    "        print(f\"Valid Loss: {valid_loss:.6f}, Valid Angle Loss: {valid_angle_loss:.6f}\")\n",
    "\n",
    "    return preds_list, targets_list"
   ]
  },
  {
   "cell_type": "code",
   "execution_count": 56,
   "metadata": {},
   "outputs": [
    {
     "data": {
      "text/plain": [
       "<All keys matched successfully>"
      ]
     },
     "execution_count": 56,
     "metadata": {},
     "output_type": "execute_result"
    }
   ],
   "source": [
    "# 모델 정의\n",
    "model = timm.create_model(\n",
    "    model_name,\n",
    "    num_classes=360\n",
    ").to(device)\n",
    "\n",
    "# 저장된 가중치 불러오기\n",
    "model.load_state_dict(torch.load(model_path+FILENAME))"
   ]
  },
  {
   "cell_type": "markdown",
   "metadata": {},
   "source": [
    "#### 7-1 TTA(Test-Time Augmentation)"
   ]
  },
  {
   "cell_type": "code",
   "execution_count": 57,
   "metadata": {},
   "outputs": [
    {
     "name": "stderr",
     "output_type": "stream",
     "text": [
      "100%|██████████| 99/99 [00:33<00:00,  2.95it/s]\n",
      "100%|██████████| 99/99 [00:34<00:00,  2.88it/s]\n",
      "100%|██████████| 99/99 [00:34<00:00,  2.90it/s]\n",
      "100%|██████████| 99/99 [00:34<00:00,  2.86it/s]\n",
      "100%|██████████| 99/99 [00:34<00:00,  2.87it/s]\n",
      "100%|██████████| 99/99 [00:34<00:00,  2.89it/s]\n",
      "100%|██████████| 99/99 [00:34<00:00,  2.89it/s]\n",
      "100%|██████████| 99/99 [00:34<00:00,  2.90it/s]\n",
      "100%|██████████| 99/99 [00:34<00:00,  2.87it/s]\n",
      "100%|██████████| 99/99 [00:34<00:00,  2.87it/s]\n",
      "100%|██████████| 99/99 [00:34<00:00,  2.88it/s]\n",
      "100%|██████████| 99/99 [00:34<00:00,  2.85it/s]\n",
      "100%|██████████| 99/99 [00:34<00:00,  2.88it/s]\n",
      "100%|██████████| 99/99 [00:34<00:00,  2.87it/s]\n",
      "100%|██████████| 99/99 [00:34<00:00,  2.87it/s]\n",
      "100%|██████████| 99/99 [00:34<00:00,  2.88it/s]\n",
      "100%|██████████| 99/99 [00:34<00:00,  2.87it/s]\n",
      "100%|██████████| 99/99 [00:34<00:00,  2.89it/s]\n",
      "100%|██████████| 99/99 [00:34<00:00,  2.88it/s]\n",
      "100%|██████████| 99/99 [00:34<00:00,  2.87it/s]\n",
      "100%|██████████| 99/99 [00:34<00:00,  2.89it/s]\n",
      "100%|██████████| 99/99 [00:34<00:00,  2.87it/s]\n",
      "100%|██████████| 99/99 [00:34<00:00,  2.90it/s]\n",
      "100%|██████████| 99/99 [00:34<00:00,  2.90it/s]\n",
      "100%|██████████| 99/99 [00:34<00:00,  2.89it/s]\n",
      "100%|██████████| 99/99 [00:34<00:00,  2.89it/s]\n",
      "100%|██████████| 99/99 [00:34<00:00,  2.88it/s]\n",
      "100%|██████████| 99/99 [00:34<00:00,  2.87it/s]\n",
      "100%|██████████| 99/99 [00:34<00:00,  2.87it/s]\n",
      "100%|██████████| 99/99 [00:34<00:00,  2.87it/s]\n",
      "100%|██████████| 99/99 [00:34<00:00,  2.88it/s]\n",
      "100%|██████████| 99/99 [00:34<00:00,  2.88it/s]\n",
      "100%|██████████| 99/99 [00:34<00:00,  2.87it/s]\n",
      "100%|██████████| 99/99 [00:34<00:00,  2.88it/s]\n",
      "100%|██████████| 99/99 [00:34<00:00,  2.88it/s]\n",
      "100%|██████████| 99/99 [00:34<00:00,  2.90it/s]\n",
      "100%|██████████| 99/99 [00:34<00:00,  2.86it/s]\n",
      "100%|██████████| 99/99 [00:34<00:00,  2.87it/s]\n",
      "100%|██████████| 99/99 [00:34<00:00,  2.88it/s]\n",
      "100%|██████████| 99/99 [00:34<00:00,  2.87it/s]\n",
      "100%|██████████| 99/99 [00:34<00:00,  2.88it/s]\n",
      "100%|██████████| 99/99 [00:34<00:00,  2.88it/s]\n",
      "100%|██████████| 99/99 [00:34<00:00,  2.89it/s]\n",
      "100%|██████████| 99/99 [00:34<00:00,  2.87it/s]\n",
      "100%|██████████| 99/99 [00:34<00:00,  2.88it/s]\n",
      "100%|██████████| 99/99 [00:33<00:00,  2.93it/s]\n",
      "100%|██████████| 99/99 [00:34<00:00,  2.88it/s]\n",
      "100%|██████████| 99/99 [00:34<00:00,  2.87it/s]\n",
      "100%|██████████| 99/99 [00:34<00:00,  2.89it/s]\n",
      "100%|██████████| 99/99 [00:34<00:00,  2.88it/s]\n",
      "100%|██████████| 99/99 [00:34<00:00,  2.88it/s]\n",
      "100%|██████████| 99/99 [00:34<00:00,  2.88it/s]\n",
      "100%|██████████| 99/99 [00:34<00:00,  2.88it/s]\n",
      "100%|██████████| 99/99 [00:34<00:00,  2.91it/s]\n",
      "100%|██████████| 99/99 [00:34<00:00,  2.88it/s]\n",
      "100%|██████████| 99/99 [00:34<00:00,  2.88it/s]\n",
      "100%|██████████| 99/99 [00:34<00:00,  2.88it/s]\n",
      "100%|██████████| 99/99 [00:34<00:00,  2.87it/s]\n",
      "100%|██████████| 99/99 [00:34<00:00,  2.88it/s]\n",
      "100%|██████████| 99/99 [00:34<00:00,  2.88it/s]\n",
      "100%|██████████| 99/99 [00:34<00:00,  2.88it/s]\n",
      "100%|██████████| 99/99 [00:34<00:00,  2.88it/s]\n",
      "100%|██████████| 99/99 [00:34<00:00,  2.88it/s]\n",
      "100%|██████████| 99/99 [00:34<00:00,  2.89it/s]\n",
      "100%|██████████| 99/99 [00:34<00:00,  2.90it/s]\n",
      "100%|██████████| 99/99 [00:34<00:00,  2.88it/s]\n",
      "100%|██████████| 99/99 [00:34<00:00,  2.88it/s]\n",
      "100%|██████████| 99/99 [00:34<00:00,  2.88it/s]\n",
      "100%|██████████| 99/99 [00:34<00:00,  2.90it/s]\n",
      "100%|██████████| 99/99 [00:34<00:00,  2.89it/s]\n",
      "100%|██████████| 99/99 [00:34<00:00,  2.88it/s]\n",
      "100%|██████████| 99/99 [00:34<00:00,  2.89it/s]\n",
      "100%|██████████| 99/99 [00:34<00:00,  2.89it/s]\n",
      "100%|██████████| 99/99 [00:34<00:00,  2.89it/s]\n",
      "100%|██████████| 99/99 [00:34<00:00,  2.90it/s]\n",
      "100%|██████████| 99/99 [00:34<00:00,  2.89it/s]\n",
      "100%|██████████| 99/99 [00:34<00:00,  2.89it/s]\n",
      "100%|██████████| 99/99 [00:34<00:00,  2.90it/s]\n",
      "100%|██████████| 99/99 [00:34<00:00,  2.89it/s]\n",
      "100%|██████████| 99/99 [00:34<00:00,  2.89it/s]\n",
      "100%|██████████| 99/99 [00:34<00:00,  2.88it/s]\n",
      "100%|██████████| 99/99 [00:33<00:00,  2.92it/s]\n",
      "100%|██████████| 99/99 [00:34<00:00,  2.89it/s]\n",
      "100%|██████████| 99/99 [00:34<00:00,  2.88it/s]\n",
      "100%|██████████| 99/99 [00:33<00:00,  2.92it/s]\n",
      "100%|██████████| 99/99 [00:34<00:00,  2.90it/s]\n",
      "100%|██████████| 99/99 [00:34<00:00,  2.90it/s]\n",
      "100%|██████████| 99/99 [00:34<00:00,  2.90it/s]\n",
      "100%|██████████| 99/99 [00:34<00:00,  2.88it/s]\n",
      "100%|██████████| 99/99 [00:33<00:00,  2.91it/s]\n",
      "100%|██████████| 99/99 [00:34<00:00,  2.87it/s]\n",
      "100%|██████████| 99/99 [00:34<00:00,  2.89it/s]\n",
      "100%|██████████| 99/99 [00:34<00:00,  2.88it/s]\n",
      "100%|██████████| 99/99 [00:33<00:00,  2.92it/s]\n",
      "100%|██████████| 99/99 [00:34<00:00,  2.89it/s]\n",
      "100%|██████████| 99/99 [00:34<00:00,  2.89it/s]\n",
      "100%|██████████| 99/99 [00:34<00:00,  2.88it/s]\n",
      "100%|██████████| 99/99 [00:34<00:00,  2.87it/s]\n",
      "100%|██████████| 99/99 [00:34<00:00,  2.88it/s]\n",
      "100%|██████████| 99/99 [00:34<00:00,  2.89it/s]\n"
     ]
    }
   ],
   "source": [
    "predictions = []\n",
    "num_augmentations = 100\n",
    "\n",
    "for i in range(num_augmentations):\n",
    "    preds_list, targets_list = infer_eval(model, tst_loader, device, True)\n",
    "    predictions.append(preds_list)\n",
    "\n",
    "preds = np.median(predictions, axis=0)"
   ]
  },
  {
   "cell_type": "code",
   "execution_count": 60,
   "metadata": {},
   "outputs": [],
   "source": [
    "pred_df = pd.DataFrame(tst_dataset.df, columns=['ID', 'target'])\n",
    "pred_df['target'] = preds\n",
    "pred_df['path'] = '../data/test/' + pred_df['ID']\n",
    "\n",
    "class_pred = pd.read_csv('../scripts/output_best.csv')\n",
    "pred_df['pred_class']=  class_pred['target']\n",
    "\n",
    "temp = meta_kr_df.copy()\n",
    "temp.columns = ['class_num', 'class_name', 'kr']\n",
    "pred_df = pred_df.merge(temp, how='left', left_on='pred_class', right_on='class_num')\n",
    "pred_df.drop(columns='class_num', inplace=True)"
   ]
  },
  {
   "cell_type": "markdown",
   "metadata": {},
   "source": [
    "#### 7-2 Test 예측 결과 Inferance"
   ]
  },
  {
   "cell_type": "code",
   "execution_count": null,
   "metadata": {},
   "outputs": [],
   "source": [
    "samples = pred_df.sample(5)\n",
    "plt.figure(figsize=(20, 40))\n",
    "\n",
    "for idx in range(len(samples)):\n",
    "    sample = samples.iloc[idx]\n",
    "    \n",
    "    plt.subplot(5, 2, idx*2+1)\n",
    "    plt.title(\"Original\")\n",
    "    image = cv2.cvtColor(cv2.imread(sample['path']), cv2.COLOR_BGR2RGB)\n",
    "    plt.imshow(image)\n",
    "    \n",
    "    plt.subplot(5, 2, idx*2+2)\n",
    "    plt.title(f\"Target: {sample['target']}\")\n",
    "    \n",
    "    rot_image = rotate2(image, -sample['target'])\n",
    "    plt.imshow(rot_image)\n",
    "    "
   ]
  },
  {
   "cell_type": "markdown",
   "metadata": {},
   "source": [
    "#### 7-2 이미지 저장"
   ]
  },
  {
   "cell_type": "code",
   "execution_count": 74,
   "metadata": {},
   "outputs": [
    {
     "name": "stdout",
     "output_type": "stream",
     "text": [
      "3140 files is saved\n"
     ]
    }
   ],
   "source": [
    "# 예측결과를 기반으로 이미지를 회전시켜서 저장\n",
    "for idx in range(len(pred_df)):\n",
    "    filename, target, path = pred_df.iloc[idx][['ID', 'target', 'path']]\n",
    "\n",
    "    image = cv2.cvtColor(cv2.imread(path), cv2.COLOR_BGR2RGB)\n",
    "    rot_image = rotate2(image, -target)\n",
    "    save_path = os.path.join('../data/test_rot_cafomer01/', filename)\n",
    "    \n",
    "    cv2.imwrite(save_path, rot_image) \n",
    "\n",
    "print(len(pred_df), 'files is saved')"
   ]
  },
  {
   "cell_type": "code",
   "execution_count": null,
   "metadata": {},
   "outputs": [],
   "source": []
  },
  {
   "cell_type": "code",
   "execution_count": null,
   "metadata": {},
   "outputs": [],
   "source": []
  }
 ],
 "metadata": {
  "kernelspec": {
   "display_name": "rot_env04",
   "language": "python",
   "name": "python3"
  },
  "language_info": {
   "codemirror_mode": {
    "name": "ipython",
    "version": 3
   },
   "file_extension": ".py",
   "mimetype": "text/x-python",
   "name": "python",
   "nbconvert_exporter": "python",
   "pygments_lexer": "ipython3",
   "version": "3.10.13"
  }
 },
 "nbformat": 4,
 "nbformat_minor": 2
}
